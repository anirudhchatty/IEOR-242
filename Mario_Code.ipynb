{
 "cells": [
  {
   "cell_type": "code",
   "execution_count": 2,
   "metadata": {
    "ExecuteTime": {
     "end_time": "2019-05-18T05:14:55.937246Z",
     "start_time": "2019-05-18T05:14:50.375679Z"
    }
   },
   "outputs": [],
   "source": [
    "import numpy as np\n",
    "import pandas as pd\n",
    "import networkx as nx\n",
    "import geopandas as gp\n",
    "%matplotlib inline\n",
    "import matplotlib.pyplot as plt"
   ]
  },
  {
   "cell_type": "code",
   "execution_count": 3,
   "metadata": {
    "ExecuteTime": {
     "end_time": "2019-05-18T05:14:55.943942Z",
     "start_time": "2019-05-18T05:14:55.937246Z"
    }
   },
   "outputs": [],
   "source": [
    "# Hide warnings\n",
    "import warnings\n",
    "warnings.filterwarnings('ignore')"
   ]
  },
  {
   "cell_type": "markdown",
   "metadata": {},
   "source": [
    "# Business Dataset"
   ]
  },
  {
   "cell_type": "code",
   "execution_count": 4,
   "metadata": {
    "ExecuteTime": {
     "end_time": "2019-05-18T05:15:02.839237Z",
     "start_time": "2019-05-18T05:14:55.946933Z"
    },
    "scrolled": true
   },
   "outputs": [
    {
     "data": {
      "text/html": [
       "<div>\n",
       "<style scoped>\n",
       "    .dataframe tbody tr th:only-of-type {\n",
       "        vertical-align: middle;\n",
       "    }\n",
       "\n",
       "    .dataframe tbody tr th {\n",
       "        vertical-align: top;\n",
       "    }\n",
       "\n",
       "    .dataframe thead th {\n",
       "        text-align: right;\n",
       "    }\n",
       "</style>\n",
       "<table border=\"1\" class=\"dataframe\">\n",
       "  <thead>\n",
       "    <tr style=\"text-align: right;\">\n",
       "      <th></th>\n",
       "      <th>address</th>\n",
       "      <th>attributes</th>\n",
       "      <th>business_id</th>\n",
       "      <th>categories</th>\n",
       "      <th>city</th>\n",
       "      <th>hours</th>\n",
       "      <th>is_open</th>\n",
       "      <th>latitude</th>\n",
       "      <th>longitude</th>\n",
       "      <th>name</th>\n",
       "      <th>postal_code</th>\n",
       "      <th>review_count</th>\n",
       "      <th>stars</th>\n",
       "      <th>state</th>\n",
       "    </tr>\n",
       "  </thead>\n",
       "  <tbody>\n",
       "    <tr>\n",
       "      <th>0</th>\n",
       "      <td>2818 E Camino Acequia Drive</td>\n",
       "      <td>{'GoodForKids': 'False'}</td>\n",
       "      <td>1SWheh84yJXfytovILXOAQ</td>\n",
       "      <td>Golf, Active Life</td>\n",
       "      <td>Phoenix</td>\n",
       "      <td>None</td>\n",
       "      <td>0</td>\n",
       "      <td>33.522143</td>\n",
       "      <td>-112.018481</td>\n",
       "      <td>Arizona Biltmore Golf Club</td>\n",
       "      <td>85016</td>\n",
       "      <td>5</td>\n",
       "      <td>3.0</td>\n",
       "      <td>AZ</td>\n",
       "    </tr>\n",
       "    <tr>\n",
       "      <th>1</th>\n",
       "      <td>30 Eglinton Avenue W</td>\n",
       "      <td>{'RestaurantsReservations': 'True', 'GoodForMe...</td>\n",
       "      <td>QXAEGFB4oINsVuTFxEYKFQ</td>\n",
       "      <td>Specialty Food, Restaurants, Dim Sum, Imported...</td>\n",
       "      <td>Mississauga</td>\n",
       "      <td>{'Monday': '9:0-0:0', 'Tuesday': '9:0-0:0', 'W...</td>\n",
       "      <td>1</td>\n",
       "      <td>43.605499</td>\n",
       "      <td>-79.652289</td>\n",
       "      <td>Emerald Chinese Restaurant</td>\n",
       "      <td>L5R 3E7</td>\n",
       "      <td>128</td>\n",
       "      <td>2.5</td>\n",
       "      <td>ON</td>\n",
       "    </tr>\n",
       "    <tr>\n",
       "      <th>2</th>\n",
       "      <td>10110 Johnston Rd, Ste 15</td>\n",
       "      <td>{'GoodForKids': 'True', 'NoiseLevel': 'u'avera...</td>\n",
       "      <td>gnKjwL_1w79qoiV3IC_xQQ</td>\n",
       "      <td>Sushi Bars, Restaurants, Japanese</td>\n",
       "      <td>Charlotte</td>\n",
       "      <td>{'Monday': '17:30-21:30', 'Wednesday': '17:30-...</td>\n",
       "      <td>1</td>\n",
       "      <td>35.092564</td>\n",
       "      <td>-80.859132</td>\n",
       "      <td>Musashi Japanese Restaurant</td>\n",
       "      <td>28210</td>\n",
       "      <td>170</td>\n",
       "      <td>4.0</td>\n",
       "      <td>NC</td>\n",
       "    </tr>\n",
       "  </tbody>\n",
       "</table>\n",
       "</div>"
      ],
      "text/plain": [
       "                       address  \\\n",
       "0  2818 E Camino Acequia Drive   \n",
       "1         30 Eglinton Avenue W   \n",
       "2    10110 Johnston Rd, Ste 15   \n",
       "\n",
       "                                          attributes             business_id  \\\n",
       "0                           {'GoodForKids': 'False'}  1SWheh84yJXfytovILXOAQ   \n",
       "1  {'RestaurantsReservations': 'True', 'GoodForMe...  QXAEGFB4oINsVuTFxEYKFQ   \n",
       "2  {'GoodForKids': 'True', 'NoiseLevel': 'u'avera...  gnKjwL_1w79qoiV3IC_xQQ   \n",
       "\n",
       "                                          categories         city  \\\n",
       "0                                  Golf, Active Life      Phoenix   \n",
       "1  Specialty Food, Restaurants, Dim Sum, Imported...  Mississauga   \n",
       "2                  Sushi Bars, Restaurants, Japanese    Charlotte   \n",
       "\n",
       "                                               hours  is_open   latitude  \\\n",
       "0                                               None        0  33.522143   \n",
       "1  {'Monday': '9:0-0:0', 'Tuesday': '9:0-0:0', 'W...        1  43.605499   \n",
       "2  {'Monday': '17:30-21:30', 'Wednesday': '17:30-...        1  35.092564   \n",
       "\n",
       "    longitude                         name postal_code  review_count  stars  \\\n",
       "0 -112.018481   Arizona Biltmore Golf Club       85016             5    3.0   \n",
       "1  -79.652289   Emerald Chinese Restaurant     L5R 3E7           128    2.5   \n",
       "2  -80.859132  Musashi Japanese Restaurant       28210           170    4.0   \n",
       "\n",
       "  state  \n",
       "0    AZ  \n",
       "1    ON  \n",
       "2    NC  "
      ]
     },
     "execution_count": 4,
     "metadata": {},
     "output_type": "execute_result"
    }
   ],
   "source": [
    "business = pd.read_json('Data/yelp_dataset/business.json',lines=True)\n",
    "business.head(3)"
   ]
  },
  {
   "cell_type": "code",
   "execution_count": 4,
   "metadata": {
    "ExecuteTime": {
     "end_time": "2019-05-15T23:13:03.639396Z",
     "start_time": "2019-05-15T23:13:03.627396Z"
    }
   },
   "outputs": [
    {
     "data": {
      "text/plain": [
       "Index(['address', 'attributes', 'business_id', 'categories', 'city', 'hours',\n",
       "       'is_open', 'latitude', 'longitude', 'name', 'postal_code',\n",
       "       'review_count', 'stars', 'state'],\n",
       "      dtype='object')"
      ]
     },
     "execution_count": 4,
     "metadata": {},
     "output_type": "execute_result"
    }
   ],
   "source": [
    "business.columns"
   ]
  },
  {
   "cell_type": "code",
   "execution_count": 5,
   "metadata": {
    "ExecuteTime": {
     "end_time": "2019-05-15T23:13:03.975433Z",
     "start_time": "2019-05-15T23:13:03.643397Z"
    }
   },
   "outputs": [
    {
     "name": "stdout",
     "output_type": "stream",
     "text": [
      "<class 'pandas.core.frame.DataFrame'>\n",
      "RangeIndex: 192609 entries, 0 to 192608\n",
      "Data columns (total 14 columns):\n",
      "address         192609 non-null object\n",
      "attributes      163773 non-null object\n",
      "business_id     192609 non-null object\n",
      "categories      192127 non-null object\n",
      "city            192609 non-null object\n",
      "hours           147779 non-null object\n",
      "is_open         192609 non-null int64\n",
      "latitude        192609 non-null float64\n",
      "longitude       192609 non-null float64\n",
      "name            192609 non-null object\n",
      "postal_code     192609 non-null object\n",
      "review_count    192609 non-null int64\n",
      "stars           192609 non-null float64\n",
      "state           192609 non-null object\n",
      "dtypes: float64(3), int64(2), object(9)\n",
      "memory usage: 20.6+ MB\n"
     ]
    }
   ],
   "source": [
    "business.info()"
   ]
  },
  {
   "cell_type": "markdown",
   "metadata": {},
   "source": [
    "## Just keep Restaurants in Las Vegas"
   ]
  },
  {
   "cell_type": "code",
   "execution_count": 6,
   "metadata": {
    "ExecuteTime": {
     "end_time": "2019-05-15T23:13:23.906295Z",
     "start_time": "2019-05-15T23:13:03.975433Z"
    }
   },
   "outputs": [
    {
     "data": {
      "text/html": [
       "<div>\n",
       "<style scoped>\n",
       "    .dataframe tbody tr th:only-of-type {\n",
       "        vertical-align: middle;\n",
       "    }\n",
       "\n",
       "    .dataframe tbody tr th {\n",
       "        vertical-align: top;\n",
       "    }\n",
       "\n",
       "    .dataframe thead th {\n",
       "        text-align: right;\n",
       "    }\n",
       "</style>\n",
       "<table border=\"1\" class=\"dataframe\">\n",
       "  <thead>\n",
       "    <tr style=\"text-align: right;\">\n",
       "      <th></th>\n",
       "      <th>business_id</th>\n",
       "      <th>categories</th>\n",
       "      <th>city</th>\n",
       "      <th>latitude</th>\n",
       "      <th>longitude</th>\n",
       "      <th>stars</th>\n",
       "    </tr>\n",
       "  </thead>\n",
       "  <tbody>\n",
       "    <tr>\n",
       "      <th>17</th>\n",
       "      <td>PZ-LZzSlhSe9utkQYU8pFg</td>\n",
       "      <td>Restaurants, Italian</td>\n",
       "      <td>Las Vegas</td>\n",
       "      <td>36.100016</td>\n",
       "      <td>-115.128529</td>\n",
       "      <td>4.0</td>\n",
       "    </tr>\n",
       "    <tr>\n",
       "      <th>25</th>\n",
       "      <td>tstimHoMcYbkSC4eBA1wEg</td>\n",
       "      <td>Mexican, Restaurants, Patisserie/Cake Shop, Fo...</td>\n",
       "      <td>Las Vegas</td>\n",
       "      <td>36.195615</td>\n",
       "      <td>-115.040529</td>\n",
       "      <td>4.5</td>\n",
       "    </tr>\n",
       "    <tr>\n",
       "      <th>75</th>\n",
       "      <td>kANF0dbeoW34s2vwh6Umfw</td>\n",
       "      <td>Fast Food, Food, Restaurants, Ice Cream &amp; Froz...</td>\n",
       "      <td>Las Vegas</td>\n",
       "      <td>36.125031</td>\n",
       "      <td>-115.225620</td>\n",
       "      <td>2.0</td>\n",
       "    </tr>\n",
       "    <tr>\n",
       "      <th>111</th>\n",
       "      <td>X8mtoSxY8whtmbDlj0D3Aw</td>\n",
       "      <td>Restaurants, Chinese</td>\n",
       "      <td>Las Vegas</td>\n",
       "      <td>36.238596</td>\n",
       "      <td>-115.233331</td>\n",
       "      <td>2.0</td>\n",
       "    </tr>\n",
       "    <tr>\n",
       "      <th>135</th>\n",
       "      <td>bJP4l_BGq2CudEu0m-wNjg</td>\n",
       "      <td>Restaurants, Pizza, Italian, American (New)</td>\n",
       "      <td>Las Vegas</td>\n",
       "      <td>36.143672</td>\n",
       "      <td>-115.169792</td>\n",
       "      <td>2.0</td>\n",
       "    </tr>\n",
       "  </tbody>\n",
       "</table>\n",
       "</div>"
      ],
      "text/plain": [
       "                business_id  \\\n",
       "17   PZ-LZzSlhSe9utkQYU8pFg   \n",
       "25   tstimHoMcYbkSC4eBA1wEg   \n",
       "75   kANF0dbeoW34s2vwh6Umfw   \n",
       "111  X8mtoSxY8whtmbDlj0D3Aw   \n",
       "135  bJP4l_BGq2CudEu0m-wNjg   \n",
       "\n",
       "                                            categories       city   latitude  \\\n",
       "17                                Restaurants, Italian  Las Vegas  36.100016   \n",
       "25   Mexican, Restaurants, Patisserie/Cake Shop, Fo...  Las Vegas  36.195615   \n",
       "75   Fast Food, Food, Restaurants, Ice Cream & Froz...  Las Vegas  36.125031   \n",
       "111                               Restaurants, Chinese  Las Vegas  36.238596   \n",
       "135        Restaurants, Pizza, Italian, American (New)  Las Vegas  36.143672   \n",
       "\n",
       "      longitude  stars  \n",
       "17  -115.128529    4.0  \n",
       "25  -115.040529    4.5  \n",
       "75  -115.225620    2.0  \n",
       "111 -115.233331    2.0  \n",
       "135 -115.169792    2.0  "
      ]
     },
     "execution_count": 6,
     "metadata": {},
     "output_type": "execute_result"
    }
   ],
   "source": [
    "business=business[['business_id','categories','city','latitude','longitude','stars']]\n",
    "business.dropna(inplace=True)\n",
    "for index, row in business.iterrows():\n",
    "    if 'Restaurant' in row.categories:\n",
    "        business.at[index,'Restaurant']=True\n",
    "        \n",
    "business.dropna(inplace=True)\n",
    "del business['Restaurant']\n",
    "business=business.loc[business.city=='Las Vegas']\n",
    "business.head()"
   ]
  },
  {
   "cell_type": "code",
   "execution_count": 7,
   "metadata": {
    "ExecuteTime": {
     "end_time": "2019-05-15T23:13:23.918329Z",
     "start_time": "2019-05-15T23:13:23.910328Z"
    }
   },
   "outputs": [
    {
     "data": {
      "text/plain": [
       "(6455, 6)"
      ]
     },
     "execution_count": 7,
     "metadata": {},
     "output_type": "execute_result"
    }
   ],
   "source": [
    "business.shape"
   ]
  },
  {
   "cell_type": "markdown",
   "metadata": {},
   "source": [
    "# Reviews Dataset"
   ]
  },
  {
   "cell_type": "code",
   "execution_count": 8,
   "metadata": {
    "ExecuteTime": {
     "end_time": "2019-05-15T23:13:23.938293Z",
     "start_time": "2019-05-15T23:13:23.918329Z"
    }
   },
   "outputs": [],
   "source": [
    "review = pd.read_json('Data/yelp_dataset/review.json',lines=True, chunksize=10**5)"
   ]
  },
  {
   "cell_type": "code",
   "execution_count": 9,
   "metadata": {
    "ExecuteTime": {
     "end_time": "2019-05-15T23:18:11.868786Z",
     "start_time": "2019-05-15T23:13:23.942293Z"
    }
   },
   "outputs": [
    {
     "data": {
      "text/html": [
       "<div>\n",
       "<style scoped>\n",
       "    .dataframe tbody tr th:only-of-type {\n",
       "        vertical-align: middle;\n",
       "    }\n",
       "\n",
       "    .dataframe tbody tr th {\n",
       "        vertical-align: top;\n",
       "    }\n",
       "\n",
       "    .dataframe thead th {\n",
       "        text-align: right;\n",
       "    }\n",
       "</style>\n",
       "<table border=\"1\" class=\"dataframe\">\n",
       "  <thead>\n",
       "    <tr style=\"text-align: right;\">\n",
       "      <th></th>\n",
       "      <th>business_id</th>\n",
       "      <th>stars</th>\n",
       "      <th>text</th>\n",
       "      <th>user_id</th>\n",
       "    </tr>\n",
       "  </thead>\n",
       "  <tbody>\n",
       "    <tr>\n",
       "      <th>0</th>\n",
       "      <td>ujmEBvifdJM6h6RLv4wQIg</td>\n",
       "      <td>1</td>\n",
       "      <td>Total bill for this horrible service? Over $8G...</td>\n",
       "      <td>hG7b0MtEbXx5QzbzE6C_VA</td>\n",
       "    </tr>\n",
       "    <tr>\n",
       "      <th>1</th>\n",
       "      <td>NZnhc2sEQy3RmzKTZnqtwQ</td>\n",
       "      <td>5</td>\n",
       "      <td>I *adore* Travis at the Hard Rock's new Kelly ...</td>\n",
       "      <td>yXQM5uF2jS6es16SJzNHfg</td>\n",
       "    </tr>\n",
       "    <tr>\n",
       "      <th>2</th>\n",
       "      <td>WTqjgwHlXbSFevF32_DJVw</td>\n",
       "      <td>5</td>\n",
       "      <td>I have to say that this office really has it t...</td>\n",
       "      <td>n6-Gk65cPZL6Uz8qRm3NYw</td>\n",
       "    </tr>\n",
       "    <tr>\n",
       "      <th>3</th>\n",
       "      <td>ikCg8xy5JIg_NGPx-MSIDA</td>\n",
       "      <td>5</td>\n",
       "      <td>Went in for a lunch. Steak sandwich was delici...</td>\n",
       "      <td>dacAIZ6fTM6mqwW5uxkskg</td>\n",
       "    </tr>\n",
       "    <tr>\n",
       "      <th>4</th>\n",
       "      <td>b1b1eb3uo-w561D0ZfCEiQ</td>\n",
       "      <td>1</td>\n",
       "      <td>Today was my second out of three sessions I ha...</td>\n",
       "      <td>ssoyf2_x0EQMed6fgHeMyQ</td>\n",
       "    </tr>\n",
       "  </tbody>\n",
       "</table>\n",
       "</div>"
      ],
      "text/plain": [
       "              business_id stars  \\\n",
       "0  ujmEBvifdJM6h6RLv4wQIg     1   \n",
       "1  NZnhc2sEQy3RmzKTZnqtwQ     5   \n",
       "2  WTqjgwHlXbSFevF32_DJVw     5   \n",
       "3  ikCg8xy5JIg_NGPx-MSIDA     5   \n",
       "4  b1b1eb3uo-w561D0ZfCEiQ     1   \n",
       "\n",
       "                                                text                 user_id  \n",
       "0  Total bill for this horrible service? Over $8G...  hG7b0MtEbXx5QzbzE6C_VA  \n",
       "1  I *adore* Travis at the Hard Rock's new Kelly ...  yXQM5uF2jS6es16SJzNHfg  \n",
       "2  I have to say that this office really has it t...  n6-Gk65cPZL6Uz8qRm3NYw  \n",
       "3  Went in for a lunch. Steak sandwich was delici...  dacAIZ6fTM6mqwW5uxkskg  \n",
       "4  Today was my second out of three sessions I ha...  ssoyf2_x0EQMed6fgHeMyQ  "
      ]
     },
     "execution_count": 9,
     "metadata": {},
     "output_type": "execute_result"
    }
   ],
   "source": [
    "reviews=pd.DataFrame(columns=['business_id','stars','text','user_id'])\n",
    "for chunk in review:\n",
    "    chunk=chunk[['business_id','stars','text','user_id']]\n",
    "    reviews=pd.concat([reviews,chunk])\n",
    "    \n",
    "reviews.head()"
   ]
  },
  {
   "cell_type": "code",
   "execution_count": 10,
   "metadata": {
    "ExecuteTime": {
     "end_time": "2019-05-15T23:18:11.884788Z",
     "start_time": "2019-05-15T23:18:11.876798Z"
    }
   },
   "outputs": [
    {
     "data": {
      "text/plain": [
       "(6685900, 4)"
      ]
     },
     "execution_count": 10,
     "metadata": {},
     "output_type": "execute_result"
    }
   ],
   "source": [
    "reviews.shape"
   ]
  },
  {
   "cell_type": "markdown",
   "metadata": {
    "ExecuteTime": {
     "end_time": "2019-04-28T10:54:53.742256Z",
     "start_time": "2019-04-28T10:54:53.732247Z"
    }
   },
   "source": [
    "## Keeping Reviews for Las Vegas Restaurants"
   ]
  },
  {
   "cell_type": "code",
   "execution_count": 11,
   "metadata": {
    "ExecuteTime": {
     "end_time": "2019-05-15T23:18:15.826857Z",
     "start_time": "2019-05-15T23:18:11.888785Z"
    }
   },
   "outputs": [
    {
     "data": {
      "text/html": [
       "<div>\n",
       "<style scoped>\n",
       "    .dataframe tbody tr th:only-of-type {\n",
       "        vertical-align: middle;\n",
       "    }\n",
       "\n",
       "    .dataframe tbody tr th {\n",
       "        vertical-align: top;\n",
       "    }\n",
       "\n",
       "    .dataframe thead th {\n",
       "        text-align: right;\n",
       "    }\n",
       "</style>\n",
       "<table border=\"1\" class=\"dataframe\">\n",
       "  <thead>\n",
       "    <tr style=\"text-align: right;\">\n",
       "      <th></th>\n",
       "      <th>business_id</th>\n",
       "      <th>stars</th>\n",
       "      <th>text</th>\n",
       "      <th>user_id</th>\n",
       "    </tr>\n",
       "  </thead>\n",
       "  <tbody>\n",
       "    <tr>\n",
       "      <th>0</th>\n",
       "      <td>8mIrX_LrOnAqWsB5JrOojQ</td>\n",
       "      <td>4</td>\n",
       "      <td>Like walking back in time, every Saturday morn...</td>\n",
       "      <td>FIk4lQQu1eTe2EpzQ4xhBA</td>\n",
       "    </tr>\n",
       "    <tr>\n",
       "      <th>1</th>\n",
       "      <td>8mIrX_LrOnAqWsB5JrOojQ</td>\n",
       "      <td>4</td>\n",
       "      <td>This is a really quaint place for the whole fa...</td>\n",
       "      <td>EfnzVzqWJUVEv8ft3fW2sQ</td>\n",
       "    </tr>\n",
       "    <tr>\n",
       "      <th>2</th>\n",
       "      <td>8mIrX_LrOnAqWsB5JrOojQ</td>\n",
       "      <td>5</td>\n",
       "      <td>Yes! As good as it gets in way of pinball mach...</td>\n",
       "      <td>LM3neYWMOghn2bgvYNRi7g</td>\n",
       "    </tr>\n",
       "    <tr>\n",
       "      <th>3</th>\n",
       "      <td>8mIrX_LrOnAqWsB5JrOojQ</td>\n",
       "      <td>3</td>\n",
       "      <td>The first &amp; most important thing you need to k...</td>\n",
       "      <td>UEKG996TTiwonMpXwH-ixQ</td>\n",
       "    </tr>\n",
       "    <tr>\n",
       "      <th>4</th>\n",
       "      <td>8mIrX_LrOnAqWsB5JrOojQ</td>\n",
       "      <td>5</td>\n",
       "      <td>Pinball machines are slowly working their way ...</td>\n",
       "      <td>yMh4OF_Li2gJzE5rJ8oCbA</td>\n",
       "    </tr>\n",
       "  </tbody>\n",
       "</table>\n",
       "</div>"
      ],
      "text/plain": [
       "              business_id stars  \\\n",
       "0  8mIrX_LrOnAqWsB5JrOojQ     4   \n",
       "1  8mIrX_LrOnAqWsB5JrOojQ     4   \n",
       "2  8mIrX_LrOnAqWsB5JrOojQ     5   \n",
       "3  8mIrX_LrOnAqWsB5JrOojQ     3   \n",
       "4  8mIrX_LrOnAqWsB5JrOojQ     5   \n",
       "\n",
       "                                                text                 user_id  \n",
       "0  Like walking back in time, every Saturday morn...  FIk4lQQu1eTe2EpzQ4xhBA  \n",
       "1  This is a really quaint place for the whole fa...  EfnzVzqWJUVEv8ft3fW2sQ  \n",
       "2  Yes! As good as it gets in way of pinball mach...  LM3neYWMOghn2bgvYNRi7g  \n",
       "3  The first & most important thing you need to k...  UEKG996TTiwonMpXwH-ixQ  \n",
       "4  Pinball machines are slowly working their way ...  yMh4OF_Li2gJzE5rJ8oCbA  "
      ]
     },
     "execution_count": 11,
     "metadata": {},
     "output_type": "execute_result"
    }
   ],
   "source": [
    "#del business['categories']\n",
    "reviews_lv=reviews.merge(business[['business_id']],on='business_id')\n",
    "reviews_lv.head()"
   ]
  },
  {
   "cell_type": "code",
   "execution_count": 12,
   "metadata": {
    "ExecuteTime": {
     "end_time": "2019-05-15T23:18:15.842857Z",
     "start_time": "2019-05-15T23:18:15.830857Z"
    }
   },
   "outputs": [
    {
     "data": {
      "text/plain": [
       "(1242789, 4)"
      ]
     },
     "execution_count": 12,
     "metadata": {},
     "output_type": "execute_result"
    }
   ],
   "source": [
    "reviews_lv.shape"
   ]
  },
  {
   "cell_type": "code",
   "execution_count": 77,
   "metadata": {
    "ExecuteTime": {
     "end_time": "2019-05-16T03:19:07.332097Z",
     "start_time": "2019-05-16T03:19:07.284131Z"
    }
   },
   "outputs": [
    {
     "data": {
      "text/html": [
       "<div>\n",
       "<style scoped>\n",
       "    .dataframe tbody tr th:only-of-type {\n",
       "        vertical-align: middle;\n",
       "    }\n",
       "\n",
       "    .dataframe tbody tr th {\n",
       "        vertical-align: top;\n",
       "    }\n",
       "\n",
       "    .dataframe thead th {\n",
       "        text-align: right;\n",
       "    }\n",
       "</style>\n",
       "<table border=\"1\" class=\"dataframe\">\n",
       "  <thead>\n",
       "    <tr style=\"text-align: right;\">\n",
       "      <th></th>\n",
       "      <th>business_id</th>\n",
       "      <th>stars</th>\n",
       "      <th>text</th>\n",
       "      <th>user_id</th>\n",
       "    </tr>\n",
       "  </thead>\n",
       "  <tbody>\n",
       "    <tr>\n",
       "      <th>1242784</th>\n",
       "      <td>ESDIZvGMiFl7MfriZpXEqw</td>\n",
       "      <td>3</td>\n",
       "      <td>Noisy and crowded. The school monkeys are a ho...</td>\n",
       "      <td>1e-YlTcTpYKkCu6d_7kSJQ</td>\n",
       "    </tr>\n",
       "    <tr>\n",
       "      <th>1242785</th>\n",
       "      <td>ESDIZvGMiFl7MfriZpXEqw</td>\n",
       "      <td>5</td>\n",
       "      <td>Double double! Any day any time. Delicious bur...</td>\n",
       "      <td>0auqluusTrYQ0mEVUWbFvQ</td>\n",
       "    </tr>\n",
       "    <tr>\n",
       "      <th>1242786</th>\n",
       "      <td>ESDIZvGMiFl7MfriZpXEqw</td>\n",
       "      <td>5</td>\n",
       "      <td>Great experience.  I've visited this location ...</td>\n",
       "      <td>q7gIbl0DUbr5bYgsMMWVWg</td>\n",
       "    </tr>\n",
       "    <tr>\n",
       "      <th>1242787</th>\n",
       "      <td>ESDIZvGMiFl7MfriZpXEqw</td>\n",
       "      <td>5</td>\n",
       "      <td>Great burgers and fantastic service at an affo...</td>\n",
       "      <td>pqeKwWu7n2hJuvh1I7DMZA</td>\n",
       "    </tr>\n",
       "    <tr>\n",
       "      <th>1242788</th>\n",
       "      <td>ESDIZvGMiFl7MfriZpXEqw</td>\n",
       "      <td>5</td>\n",
       "      <td>Not sure when this location opened but I went ...</td>\n",
       "      <td>Hx2OzzMpnGLVZTWI_qg1IA</td>\n",
       "    </tr>\n",
       "  </tbody>\n",
       "</table>\n",
       "</div>"
      ],
      "text/plain": [
       "                    business_id stars  \\\n",
       "1242784  ESDIZvGMiFl7MfriZpXEqw     3   \n",
       "1242785  ESDIZvGMiFl7MfriZpXEqw     5   \n",
       "1242786  ESDIZvGMiFl7MfriZpXEqw     5   \n",
       "1242787  ESDIZvGMiFl7MfriZpXEqw     5   \n",
       "1242788  ESDIZvGMiFl7MfriZpXEqw     5   \n",
       "\n",
       "                                                      text  \\\n",
       "1242784  Noisy and crowded. The school monkeys are a ho...   \n",
       "1242785  Double double! Any day any time. Delicious bur...   \n",
       "1242786  Great experience.  I've visited this location ...   \n",
       "1242787  Great burgers and fantastic service at an affo...   \n",
       "1242788  Not sure when this location opened but I went ...   \n",
       "\n",
       "                        user_id  \n",
       "1242784  1e-YlTcTpYKkCu6d_7kSJQ  \n",
       "1242785  0auqluusTrYQ0mEVUWbFvQ  \n",
       "1242786  q7gIbl0DUbr5bYgsMMWVWg  \n",
       "1242787  pqeKwWu7n2hJuvh1I7DMZA  \n",
       "1242788  Hx2OzzMpnGLVZTWI_qg1IA  "
      ]
     },
     "execution_count": 77,
     "metadata": {},
     "output_type": "execute_result"
    }
   ],
   "source": [
    "reviews_lv.tail()"
   ]
  },
  {
   "cell_type": "code",
   "execution_count": 15,
   "metadata": {
    "ExecuteTime": {
     "end_time": "2019-05-15T23:19:46.613772Z",
     "start_time": "2019-05-15T23:19:10.405650Z"
    }
   },
   "outputs": [],
   "source": [
    "reviews_lv.to_csv('Data/LV_Reviews_Text.csv', encoding='utf-8-sig',index=False)"
   ]
  },
  {
   "cell_type": "code",
   "execution_count": 47,
   "metadata": {
    "ExecuteTime": {
     "end_time": "2019-05-13T10:38:34.059691Z",
     "start_time": "2019-05-13T10:38:25.779364Z"
    }
   },
   "outputs": [],
   "source": [
    "#reviews_lv.to_csv('Data/LV_Reviews_Categories.csv', encoding='utf-8-sig',index=False)"
   ]
  },
  {
   "cell_type": "code",
   "execution_count": null,
   "metadata": {},
   "outputs": [],
   "source": []
  },
  {
   "cell_type": "code",
   "execution_count": 117,
   "metadata": {
    "ExecuteTime": {
     "end_time": "2019-04-28T20:27:31.843545Z",
     "start_time": "2019-04-28T20:27:28.439923Z"
    }
   },
   "outputs": [
    {
     "data": {
      "text/html": [
       "<div>\n",
       "<style scoped>\n",
       "    .dataframe tbody tr th:only-of-type {\n",
       "        vertical-align: middle;\n",
       "    }\n",
       "\n",
       "    .dataframe tbody tr th {\n",
       "        vertical-align: top;\n",
       "    }\n",
       "\n",
       "    .dataframe thead th {\n",
       "        text-align: right;\n",
       "    }\n",
       "</style>\n",
       "<table border=\"1\" class=\"dataframe\">\n",
       "  <thead>\n",
       "    <tr style=\"text-align: right;\">\n",
       "      <th></th>\n",
       "      <th>user_id</th>\n",
       "      <th>Total_Reviews</th>\n",
       "      <th>Avg_Stars</th>\n",
       "    </tr>\n",
       "  </thead>\n",
       "  <tbody>\n",
       "    <tr>\n",
       "      <th>0</th>\n",
       "      <td>---1lKK3aKOuomHnwAkAow</td>\n",
       "      <td>56</td>\n",
       "      <td>3.589286</td>\n",
       "    </tr>\n",
       "    <tr>\n",
       "      <th>1</th>\n",
       "      <td>---udAKDsn0yQXmzbWQNSw</td>\n",
       "      <td>2</td>\n",
       "      <td>4.500000</td>\n",
       "    </tr>\n",
       "    <tr>\n",
       "      <th>2</th>\n",
       "      <td>--0sXNBv6IizZXuV-nl0Aw</td>\n",
       "      <td>1</td>\n",
       "      <td>5.000000</td>\n",
       "    </tr>\n",
       "    <tr>\n",
       "      <th>3</th>\n",
       "      <td>--0zxhZTSLZ7w1hUD2bEwA</td>\n",
       "      <td>1</td>\n",
       "      <td>5.000000</td>\n",
       "    </tr>\n",
       "    <tr>\n",
       "      <th>4</th>\n",
       "      <td>--1mPJZdSY9KluaBYAGboQ</td>\n",
       "      <td>1</td>\n",
       "      <td>5.000000</td>\n",
       "    </tr>\n",
       "  </tbody>\n",
       "</table>\n",
       "</div>"
      ],
      "text/plain": [
       "                  user_id  Total_Reviews  Avg_Stars\n",
       "0  ---1lKK3aKOuomHnwAkAow             56   3.589286\n",
       "1  ---udAKDsn0yQXmzbWQNSw              2   4.500000\n",
       "2  --0sXNBv6IizZXuV-nl0Aw              1   5.000000\n",
       "3  --0zxhZTSLZ7w1hUD2bEwA              1   5.000000\n",
       "4  --1mPJZdSY9KluaBYAGboQ              1   5.000000"
      ]
     },
     "execution_count": 117,
     "metadata": {},
     "output_type": "execute_result"
    }
   ],
   "source": [
    "reviews.stars=reviews.stars.astype(int)\n",
    "user_no_reviews=reviews.groupby(['user_id']).agg({'business_id':'size','stars':'mean'}).rename(columns={'business_id':'Total_Reviews','stars':'Avg_Stars'}).reset_index()\n",
    "user_no_reviews.head()"
   ]
  },
  {
   "cell_type": "code",
   "execution_count": 122,
   "metadata": {
    "ExecuteTime": {
     "end_time": "2019-04-28T20:31:28.535438Z",
     "start_time": "2019-04-28T20:31:28.528602Z"
    }
   },
   "outputs": [
    {
     "data": {
      "text/plain": [
       "(423210, 3)"
      ]
     },
     "execution_count": 122,
     "metadata": {},
     "output_type": "execute_result"
    }
   ],
   "source": [
    "user_no_reviews.shape"
   ]
  },
  {
   "cell_type": "code",
   "execution_count": 136,
   "metadata": {
    "ExecuteTime": {
     "end_time": "2019-04-28T21:03:53.746887Z",
     "start_time": "2019-04-28T21:03:53.587129Z"
    }
   },
   "outputs": [
    {
     "data": {
      "text/html": [
       "<div>\n",
       "<style scoped>\n",
       "    .dataframe tbody tr th:only-of-type {\n",
       "        vertical-align: middle;\n",
       "    }\n",
       "\n",
       "    .dataframe tbody tr th {\n",
       "        vertical-align: top;\n",
       "    }\n",
       "\n",
       "    .dataframe thead th {\n",
       "        text-align: right;\n",
       "    }\n",
       "</style>\n",
       "<table border=\"1\" class=\"dataframe\">\n",
       "  <thead>\n",
       "    <tr style=\"text-align: right;\">\n",
       "      <th></th>\n",
       "      <th>Total_Reviews</th>\n",
       "      <th>Avg_Stars</th>\n",
       "    </tr>\n",
       "  </thead>\n",
       "  <tbody>\n",
       "    <tr>\n",
       "      <th>count</th>\n",
       "      <td>423210.000000</td>\n",
       "      <td>423210.000000</td>\n",
       "    </tr>\n",
       "    <tr>\n",
       "      <th>mean</th>\n",
       "      <td>2.757716</td>\n",
       "      <td>3.723941</td>\n",
       "    </tr>\n",
       "    <tr>\n",
       "      <th>std</th>\n",
       "      <td>7.760111</td>\n",
       "      <td>1.382117</td>\n",
       "    </tr>\n",
       "    <tr>\n",
       "      <th>min</th>\n",
       "      <td>1.000000</td>\n",
       "      <td>1.000000</td>\n",
       "    </tr>\n",
       "    <tr>\n",
       "      <th>25%</th>\n",
       "      <td>1.000000</td>\n",
       "      <td>3.000000</td>\n",
       "    </tr>\n",
       "    <tr>\n",
       "      <th>50%</th>\n",
       "      <td>1.000000</td>\n",
       "      <td>4.000000</td>\n",
       "    </tr>\n",
       "    <tr>\n",
       "      <th>75%</th>\n",
       "      <td>2.000000</td>\n",
       "      <td>5.000000</td>\n",
       "    </tr>\n",
       "    <tr>\n",
       "      <th>max</th>\n",
       "      <td>1309.000000</td>\n",
       "      <td>5.000000</td>\n",
       "    </tr>\n",
       "  </tbody>\n",
       "</table>\n",
       "</div>"
      ],
      "text/plain": [
       "       Total_Reviews      Avg_Stars\n",
       "count  423210.000000  423210.000000\n",
       "mean        2.757716       3.723941\n",
       "std         7.760111       1.382117\n",
       "min         1.000000       1.000000\n",
       "25%         1.000000       3.000000\n",
       "50%         1.000000       4.000000\n",
       "75%         2.000000       5.000000\n",
       "max      1309.000000       5.000000"
      ]
     },
     "execution_count": 136,
     "metadata": {},
     "output_type": "execute_result"
    }
   ],
   "source": [
    "user_no_reviews.describe()"
   ]
  },
  {
   "cell_type": "code",
   "execution_count": 137,
   "metadata": {
    "ExecuteTime": {
     "end_time": "2019-04-28T21:05:36.538724Z",
     "start_time": "2019-04-28T21:05:36.177702Z"
    }
   },
   "outputs": [
    {
     "data": {
      "text/plain": [
       "(array([ 54164.,   2581.,  25352.,   7582.,   4793.,  44797.,  28087.,\n",
       "         63886.,  26602., 165366.]),\n",
       " array([1. , 1.4, 1.8, 2.2, 2.6, 3. , 3.4, 3.8, 4.2, 4.6, 5. ]),\n",
       " <a list of 10 Patch objects>)"
      ]
     },
     "execution_count": 137,
     "metadata": {},
     "output_type": "execute_result"
    },
    {
     "data": {
      "image/png": "[encoded data removed]",
      "text/plain": [
       "<Figure size 432x288 with 1 Axes>"
      ]
     },
     "metadata": {
      "needs_background": "light"
     },
     "output_type": "display_data"
    }
   ],
   "source": [
    "plt.hist(user_no_reviews.Avg_Stars)"
   ]
  },
  {
   "cell_type": "code",
   "execution_count": 134,
   "metadata": {
    "ExecuteTime": {
     "end_time": "2019-04-28T20:54:39.424174Z",
     "start_time": "2019-04-28T20:54:19.816776Z"
    }
   },
   "outputs": [
    {
     "data": {
      "text/plain": [
       "<matplotlib.axes._subplots.AxesSubplot at 0x243ea343048>"
      ]
     },
     "execution_count": 134,
     "metadata": {},
     "output_type": "execute_result"
    },
    {
     "data": {
      "image/png": "[encoded data removed]",
      "text/plain": [
       "<Figure size 432x288 with 1 Axes>"
      ]
     },
     "metadata": {
      "needs_background": "light"
     },
     "output_type": "display_data"
    }
   ],
   "source": [
    "import seaborn as sns\n",
    "sns.distplot(user_no_reviews.Total_Reviews,rug=True, hist=False, kde=True, \n",
    "             color = 'darkblue', \n",
    "             hist_kws={'edgecolor':'black'},\n",
    "             kde_kws={'linewidth': 4})"
   ]
  },
  {
   "cell_type": "code",
   "execution_count": null,
   "metadata": {},
   "outputs": [],
   "source": [
    "#reviews.to_csv('Data/LV_Restaurant_Reviews.csv', encoding='utf-8-sig')"
   ]
  },
  {
   "cell_type": "code",
   "execution_count": null,
   "metadata": {},
   "outputs": [],
   "source": [
    "#review.to_csv('Data/Agg_Reviews_Stars.csv',encoding='utf-8-sig')"
   ]
  },
  {
   "cell_type": "code",
   "execution_count": 139,
   "metadata": {
    "ExecuteTime": {
     "end_time": "2019-04-28T22:09:20.445340Z",
     "start_time": "2019-04-28T22:09:20.430379Z"
    }
   },
   "outputs": [
    {
     "data": {
      "text/html": [
       "<div>\n",
       "<style scoped>\n",
       "    .dataframe tbody tr th:only-of-type {\n",
       "        vertical-align: middle;\n",
       "    }\n",
       "\n",
       "    .dataframe tbody tr th {\n",
       "        vertical-align: top;\n",
       "    }\n",
       "\n",
       "    .dataframe thead th {\n",
       "        text-align: right;\n",
       "    }\n",
       "</style>\n",
       "<table border=\"1\" class=\"dataframe\">\n",
       "  <thead>\n",
       "    <tr style=\"text-align: right;\">\n",
       "      <th></th>\n",
       "      <th>business_id</th>\n",
       "      <th>stars</th>\n",
       "      <th>user_id</th>\n",
       "      <th>city</th>\n",
       "      <th>latitude</th>\n",
       "      <th>longitude</th>\n",
       "    </tr>\n",
       "  </thead>\n",
       "  <tbody>\n",
       "    <tr>\n",
       "      <th>0</th>\n",
       "      <td>pH0BLkL4cbxKzu471VZnuA</td>\n",
       "      <td>5</td>\n",
       "      <td>LoMKP9SLsDHUZV0ZE9TQ3A</td>\n",
       "      <td>Las Vegas</td>\n",
       "      <td>36.124582</td>\n",
       "      <td>-115.167553</td>\n",
       "    </tr>\n",
       "    <tr>\n",
       "      <th>1</th>\n",
       "      <td>pH0BLkL4cbxKzu471VZnuA</td>\n",
       "      <td>5</td>\n",
       "      <td>ozO-5ZxPT07pXyCdxRFhug</td>\n",
       "      <td>Las Vegas</td>\n",
       "      <td>36.124582</td>\n",
       "      <td>-115.167553</td>\n",
       "    </tr>\n",
       "    <tr>\n",
       "      <th>2</th>\n",
       "      <td>pH0BLkL4cbxKzu471VZnuA</td>\n",
       "      <td>1</td>\n",
       "      <td>IcUwiYi6SUI7Eo-hwBWedA</td>\n",
       "      <td>Las Vegas</td>\n",
       "      <td>36.124582</td>\n",
       "      <td>-115.167553</td>\n",
       "    </tr>\n",
       "    <tr>\n",
       "      <th>3</th>\n",
       "      <td>pH0BLkL4cbxKzu471VZnuA</td>\n",
       "      <td>5</td>\n",
       "      <td>2YXT9mMPe8McTBAox4BBtg</td>\n",
       "      <td>Las Vegas</td>\n",
       "      <td>36.124582</td>\n",
       "      <td>-115.167553</td>\n",
       "    </tr>\n",
       "    <tr>\n",
       "      <th>4</th>\n",
       "      <td>pH0BLkL4cbxKzu471VZnuA</td>\n",
       "      <td>1</td>\n",
       "      <td>vGk-ePtd6sKJtnaYgyN9lw</td>\n",
       "      <td>Las Vegas</td>\n",
       "      <td>36.124582</td>\n",
       "      <td>-115.167553</td>\n",
       "    </tr>\n",
       "  </tbody>\n",
       "</table>\n",
       "</div>"
      ],
      "text/plain": [
       "              business_id  stars                 user_id       city  \\\n",
       "0  pH0BLkL4cbxKzu471VZnuA      5  LoMKP9SLsDHUZV0ZE9TQ3A  Las Vegas   \n",
       "1  pH0BLkL4cbxKzu471VZnuA      5  ozO-5ZxPT07pXyCdxRFhug  Las Vegas   \n",
       "2  pH0BLkL4cbxKzu471VZnuA      1  IcUwiYi6SUI7Eo-hwBWedA  Las Vegas   \n",
       "3  pH0BLkL4cbxKzu471VZnuA      5  2YXT9mMPe8McTBAox4BBtg  Las Vegas   \n",
       "4  pH0BLkL4cbxKzu471VZnuA      1  vGk-ePtd6sKJtnaYgyN9lw  Las Vegas   \n",
       "\n",
       "    latitude   longitude  \n",
       "0  36.124582 -115.167553  \n",
       "1  36.124582 -115.167553  \n",
       "2  36.124582 -115.167553  \n",
       "3  36.124582 -115.167553  \n",
       "4  36.124582 -115.167553  "
      ]
     },
     "execution_count": 139,
     "metadata": {},
     "output_type": "execute_result"
    }
   ],
   "source": [
    "reviews.head()"
   ]
  },
  {
   "cell_type": "code",
   "execution_count": 140,
   "metadata": {
    "ExecuteTime": {
     "end_time": "2019-04-28T22:11:27.799933Z",
     "start_time": "2019-04-28T22:11:23.714772Z"
    }
   },
   "outputs": [
    {
     "data": {
      "text/html": [
       "<div>\n",
       "<style scoped>\n",
       "    .dataframe tbody tr th:only-of-type {\n",
       "        vertical-align: middle;\n",
       "    }\n",
       "\n",
       "    .dataframe tbody tr th {\n",
       "        vertical-align: top;\n",
       "    }\n",
       "\n",
       "    .dataframe thead th {\n",
       "        text-align: right;\n",
       "    }\n",
       "</style>\n",
       "<table border=\"1\" class=\"dataframe\">\n",
       "  <thead>\n",
       "    <tr style=\"text-align: right;\">\n",
       "      <th></th>\n",
       "      <th>user_id</th>\n",
       "      <th>centroid_lat</th>\n",
       "      <th>centroid_long</th>\n",
       "    </tr>\n",
       "  </thead>\n",
       "  <tbody>\n",
       "    <tr>\n",
       "      <th>0</th>\n",
       "      <td>---1lKK3aKOuomHnwAkAow</td>\n",
       "      <td>36.146344</td>\n",
       "      <td>-115.252731</td>\n",
       "    </tr>\n",
       "    <tr>\n",
       "      <th>1</th>\n",
       "      <td>---udAKDsn0yQXmzbWQNSw</td>\n",
       "      <td>36.098651</td>\n",
       "      <td>-115.235599</td>\n",
       "    </tr>\n",
       "    <tr>\n",
       "      <th>2</th>\n",
       "      <td>--0sXNBv6IizZXuV-nl0Aw</td>\n",
       "      <td>36.196944</td>\n",
       "      <td>-115.262117</td>\n",
       "    </tr>\n",
       "    <tr>\n",
       "      <th>3</th>\n",
       "      <td>--0zxhZTSLZ7w1hUD2bEwA</td>\n",
       "      <td>35.994950</td>\n",
       "      <td>-115.206218</td>\n",
       "    </tr>\n",
       "    <tr>\n",
       "      <th>4</th>\n",
       "      <td>--1mPJZdSY9KluaBYAGboQ</td>\n",
       "      <td>36.084293</td>\n",
       "      <td>-115.293878</td>\n",
       "    </tr>\n",
       "  </tbody>\n",
       "</table>\n",
       "</div>"
      ],
      "text/plain": [
       "                  user_id  centroid_lat  centroid_long\n",
       "0  ---1lKK3aKOuomHnwAkAow     36.146344    -115.252731\n",
       "1  ---udAKDsn0yQXmzbWQNSw     36.098651    -115.235599\n",
       "2  --0sXNBv6IizZXuV-nl0Aw     36.196944    -115.262117\n",
       "3  --0zxhZTSLZ7w1hUD2bEwA     35.994950    -115.206218\n",
       "4  --1mPJZdSY9KluaBYAGboQ     36.084293    -115.293878"
      ]
     },
     "execution_count": 140,
     "metadata": {},
     "output_type": "execute_result"
    }
   ],
   "source": [
    "user_variance=reviews.groupby(['user_id']).agg({'latitude':'mean','longitude':'mean'}).rename(columns={'latitude':'centroid_lat','longitude':'centroid_long'}).reset_index()\n",
    "user_variance.head()"
   ]
  },
  {
   "cell_type": "code",
   "execution_count": 146,
   "metadata": {
    "ExecuteTime": {
     "end_time": "2019-04-28T22:20:10.717505Z",
     "start_time": "2019-04-28T22:20:09.063917Z"
    }
   },
   "outputs": [
    {
     "data": {
      "text/html": [
       "<div>\n",
       "<style scoped>\n",
       "    .dataframe tbody tr th:only-of-type {\n",
       "        vertical-align: middle;\n",
       "    }\n",
       "\n",
       "    .dataframe tbody tr th {\n",
       "        vertical-align: top;\n",
       "    }\n",
       "\n",
       "    .dataframe thead th {\n",
       "        text-align: right;\n",
       "    }\n",
       "</style>\n",
       "<table border=\"1\" class=\"dataframe\">\n",
       "  <thead>\n",
       "    <tr style=\"text-align: right;\">\n",
       "      <th></th>\n",
       "      <th>business_id</th>\n",
       "      <th>stars</th>\n",
       "      <th>user_id</th>\n",
       "      <th>city</th>\n",
       "      <th>latitude</th>\n",
       "      <th>longitude</th>\n",
       "      <th>centroid_lat</th>\n",
       "      <th>centroid_long</th>\n",
       "    </tr>\n",
       "  </thead>\n",
       "  <tbody>\n",
       "    <tr>\n",
       "      <th>0</th>\n",
       "      <td>pH0BLkL4cbxKzu471VZnuA</td>\n",
       "      <td>5</td>\n",
       "      <td>LoMKP9SLsDHUZV0ZE9TQ3A</td>\n",
       "      <td>Las Vegas</td>\n",
       "      <td>36.124582</td>\n",
       "      <td>-115.167553</td>\n",
       "      <td>36.123746</td>\n",
       "      <td>-115.169134</td>\n",
       "    </tr>\n",
       "    <tr>\n",
       "      <th>1</th>\n",
       "      <td>pH0BLkL4cbxKzu471VZnuA</td>\n",
       "      <td>5</td>\n",
       "      <td>ozO-5ZxPT07pXyCdxRFhug</td>\n",
       "      <td>Las Vegas</td>\n",
       "      <td>36.124582</td>\n",
       "      <td>-115.167553</td>\n",
       "      <td>36.114428</td>\n",
       "      <td>-115.173621</td>\n",
       "    </tr>\n",
       "    <tr>\n",
       "      <th>2</th>\n",
       "      <td>pH0BLkL4cbxKzu471VZnuA</td>\n",
       "      <td>1</td>\n",
       "      <td>IcUwiYi6SUI7Eo-hwBWedA</td>\n",
       "      <td>Las Vegas</td>\n",
       "      <td>36.124582</td>\n",
       "      <td>-115.167553</td>\n",
       "      <td>36.148290</td>\n",
       "      <td>-115.157092</td>\n",
       "    </tr>\n",
       "    <tr>\n",
       "      <th>3</th>\n",
       "      <td>pH0BLkL4cbxKzu471VZnuA</td>\n",
       "      <td>5</td>\n",
       "      <td>2YXT9mMPe8McTBAox4BBtg</td>\n",
       "      <td>Las Vegas</td>\n",
       "      <td>36.124582</td>\n",
       "      <td>-115.167553</td>\n",
       "      <td>36.124582</td>\n",
       "      <td>-115.167553</td>\n",
       "    </tr>\n",
       "    <tr>\n",
       "      <th>4</th>\n",
       "      <td>pH0BLkL4cbxKzu471VZnuA</td>\n",
       "      <td>1</td>\n",
       "      <td>vGk-ePtd6sKJtnaYgyN9lw</td>\n",
       "      <td>Las Vegas</td>\n",
       "      <td>36.124582</td>\n",
       "      <td>-115.167553</td>\n",
       "      <td>36.124582</td>\n",
       "      <td>-115.167553</td>\n",
       "    </tr>\n",
       "  </tbody>\n",
       "</table>\n",
       "</div>"
      ],
      "text/plain": [
       "              business_id  stars                 user_id       city  \\\n",
       "0  pH0BLkL4cbxKzu471VZnuA      5  LoMKP9SLsDHUZV0ZE9TQ3A  Las Vegas   \n",
       "1  pH0BLkL4cbxKzu471VZnuA      5  ozO-5ZxPT07pXyCdxRFhug  Las Vegas   \n",
       "2  pH0BLkL4cbxKzu471VZnuA      1  IcUwiYi6SUI7Eo-hwBWedA  Las Vegas   \n",
       "3  pH0BLkL4cbxKzu471VZnuA      5  2YXT9mMPe8McTBAox4BBtg  Las Vegas   \n",
       "4  pH0BLkL4cbxKzu471VZnuA      1  vGk-ePtd6sKJtnaYgyN9lw  Las Vegas   \n",
       "\n",
       "    latitude   longitude  centroid_lat  centroid_long  \n",
       "0  36.124582 -115.167553     36.123746    -115.169134  \n",
       "1  36.124582 -115.167553     36.114428    -115.173621  \n",
       "2  36.124582 -115.167553     36.148290    -115.157092  \n",
       "3  36.124582 -115.167553     36.124582    -115.167553  \n",
       "4  36.124582 -115.167553     36.124582    -115.167553  "
      ]
     },
     "execution_count": 146,
     "metadata": {},
     "output_type": "execute_result"
    }
   ],
   "source": [
    "user_variance=user_variance.set_index('user_id')\n",
    "reviews['centroid_lat']=reviews['user_id'].map(user_variance['centroid_lat'])\n",
    "reviews['centroid_long']=reviews['user_id'].map(user_variance['centroid_long'])\n",
    "reviews.head()"
   ]
  },
  {
   "cell_type": "code",
   "execution_count": 147,
   "metadata": {
    "ExecuteTime": {
     "end_time": "2019-04-28T22:22:41.521849Z",
     "start_time": "2019-04-28T22:22:41.513870Z"
    }
   },
   "outputs": [],
   "source": [
    "from math import radians, cos, sin, asin, sqrt\n",
    "\n",
    "def haversine(lon1, lat1, lon2, lat2):\n",
    "    \"\"\"\n",
    "    Calculate the great circle distance between two points \n",
    "    on the earth (specified in decimal degrees)\n",
    "    \"\"\"\n",
    "    # convert decimal degrees to radians \n",
    "    lon1, lat1, lon2, lat2 = map(radians, [lon1, lat1, lon2, lat2])\n",
    "\n",
    "    # haversine formula \n",
    "    dlon = lon2 - lon1 \n",
    "    dlat = lat2 - lat1 \n",
    "    a = sin(dlat/2)**2 + cos(lat1) * cos(lat2) * sin(dlon/2)**2\n",
    "    c = 2 * asin(sqrt(a)) \n",
    "    r = 6371 # Radius of earth in kilometers. Use 3956 for miles\n",
    "    return c * r"
   ]
  },
  {
   "cell_type": "code",
   "execution_count": 150,
   "metadata": {
    "ExecuteTime": {
     "end_time": "2019-04-28T22:30:28.411189Z",
     "start_time": "2019-04-28T22:27:44.593158Z"
    }
   },
   "outputs": [
    {
     "data": {
      "text/html": [
       "<div>\n",
       "<style scoped>\n",
       "    .dataframe tbody tr th:only-of-type {\n",
       "        vertical-align: middle;\n",
       "    }\n",
       "\n",
       "    .dataframe tbody tr th {\n",
       "        vertical-align: top;\n",
       "    }\n",
       "\n",
       "    .dataframe thead th {\n",
       "        text-align: right;\n",
       "    }\n",
       "</style>\n",
       "<table border=\"1\" class=\"dataframe\">\n",
       "  <thead>\n",
       "    <tr style=\"text-align: right;\">\n",
       "      <th></th>\n",
       "      <th>user_id</th>\n",
       "      <th>latitude</th>\n",
       "      <th>longitude</th>\n",
       "      <th>centroid_lat</th>\n",
       "      <th>centroid_long</th>\n",
       "      <th>dist</th>\n",
       "    </tr>\n",
       "  </thead>\n",
       "  <tbody>\n",
       "    <tr>\n",
       "      <th>0</th>\n",
       "      <td>LoMKP9SLsDHUZV0ZE9TQ3A</td>\n",
       "      <td>36.124582</td>\n",
       "      <td>-115.167553</td>\n",
       "      <td>36.123746</td>\n",
       "      <td>-115.169134</td>\n",
       "      <td>0.169761</td>\n",
       "    </tr>\n",
       "    <tr>\n",
       "      <th>1</th>\n",
       "      <td>ozO-5ZxPT07pXyCdxRFhug</td>\n",
       "      <td>36.124582</td>\n",
       "      <td>-115.167553</td>\n",
       "      <td>36.114428</td>\n",
       "      <td>-115.173621</td>\n",
       "      <td>1.253724</td>\n",
       "    </tr>\n",
       "    <tr>\n",
       "      <th>2</th>\n",
       "      <td>IcUwiYi6SUI7Eo-hwBWedA</td>\n",
       "      <td>36.124582</td>\n",
       "      <td>-115.167553</td>\n",
       "      <td>36.148290</td>\n",
       "      <td>-115.157092</td>\n",
       "      <td>2.798585</td>\n",
       "    </tr>\n",
       "    <tr>\n",
       "      <th>3</th>\n",
       "      <td>2YXT9mMPe8McTBAox4BBtg</td>\n",
       "      <td>36.124582</td>\n",
       "      <td>-115.167553</td>\n",
       "      <td>36.124582</td>\n",
       "      <td>-115.167553</td>\n",
       "      <td>0.000000</td>\n",
       "    </tr>\n",
       "    <tr>\n",
       "      <th>4</th>\n",
       "      <td>vGk-ePtd6sKJtnaYgyN9lw</td>\n",
       "      <td>36.124582</td>\n",
       "      <td>-115.167553</td>\n",
       "      <td>36.124582</td>\n",
       "      <td>-115.167553</td>\n",
       "      <td>0.000000</td>\n",
       "    </tr>\n",
       "  </tbody>\n",
       "</table>\n",
       "</div>"
      ],
      "text/plain": [
       "                  user_id   latitude   longitude  centroid_lat  centroid_long  \\\n",
       "0  LoMKP9SLsDHUZV0ZE9TQ3A  36.124582 -115.167553     36.123746    -115.169134   \n",
       "1  ozO-5ZxPT07pXyCdxRFhug  36.124582 -115.167553     36.114428    -115.173621   \n",
       "2  IcUwiYi6SUI7Eo-hwBWedA  36.124582 -115.167553     36.148290    -115.157092   \n",
       "3  2YXT9mMPe8McTBAox4BBtg  36.124582 -115.167553     36.124582    -115.167553   \n",
       "4  vGk-ePtd6sKJtnaYgyN9lw  36.124582 -115.167553     36.124582    -115.167553   \n",
       "\n",
       "       dist  \n",
       "0  0.169761  \n",
       "1  1.253724  \n",
       "2  2.798585  \n",
       "3  0.000000  \n",
       "4  0.000000  "
      ]
     },
     "execution_count": 150,
     "metadata": {},
     "output_type": "execute_result"
    }
   ],
   "source": [
    "user_variance=reviews[['user_id','latitude', 'longitude','centroid_lat', 'centroid_long']]\n",
    "for index, row in user_variance.iterrows():    \n",
    "    user_variance.at[index,'dist']=haversine(row.longitude,row.latitude,row.centroid_long,row.centroid_lat)\n",
    "    \n",
    "user_variance.head()"
   ]
  },
  {
   "cell_type": "code",
   "execution_count": 151,
   "metadata": {
    "ExecuteTime": {
     "end_time": "2019-04-28T22:31:09.212193Z",
     "start_time": "2019-04-28T22:31:08.739457Z"
    }
   },
   "outputs": [
    {
     "data": {
      "text/html": [
       "<div>\n",
       "<style scoped>\n",
       "    .dataframe tbody tr th:only-of-type {\n",
       "        vertical-align: middle;\n",
       "    }\n",
       "\n",
       "    .dataframe tbody tr th {\n",
       "        vertical-align: top;\n",
       "    }\n",
       "\n",
       "    .dataframe thead th {\n",
       "        text-align: right;\n",
       "    }\n",
       "</style>\n",
       "<table border=\"1\" class=\"dataframe\">\n",
       "  <thead>\n",
       "    <tr style=\"text-align: right;\">\n",
       "      <th></th>\n",
       "      <th>latitude</th>\n",
       "      <th>longitude</th>\n",
       "      <th>centroid_lat</th>\n",
       "      <th>centroid_long</th>\n",
       "      <th>dist</th>\n",
       "    </tr>\n",
       "  </thead>\n",
       "  <tbody>\n",
       "    <tr>\n",
       "      <th>count</th>\n",
       "      <td>1.167093e+06</td>\n",
       "      <td>1.167093e+06</td>\n",
       "      <td>1.167093e+06</td>\n",
       "      <td>1.167093e+06</td>\n",
       "      <td>1.167093e+06</td>\n",
       "    </tr>\n",
       "    <tr>\n",
       "      <th>mean</th>\n",
       "      <td>3.612130e+01</td>\n",
       "      <td>-1.151934e+02</td>\n",
       "      <td>3.612130e+01</td>\n",
       "      <td>-1.151934e+02</td>\n",
       "      <td>3.322857e+00</td>\n",
       "    </tr>\n",
       "    <tr>\n",
       "      <th>std</th>\n",
       "      <td>4.765990e-02</td>\n",
       "      <td>5.460900e-02</td>\n",
       "      <td>3.472839e-02</td>\n",
       "      <td>4.032052e-02</td>\n",
       "      <td>3.615710e+00</td>\n",
       "    </tr>\n",
       "    <tr>\n",
       "      <th>min</th>\n",
       "      <td>3.592088e+01</td>\n",
       "      <td>-1.154530e+02</td>\n",
       "      <td>3.592088e+01</td>\n",
       "      <td>-1.154530e+02</td>\n",
       "      <td>0.000000e+00</td>\n",
       "    </tr>\n",
       "    <tr>\n",
       "      <th>25%</th>\n",
       "      <td>3.610326e+01</td>\n",
       "      <td>-1.152241e+02</td>\n",
       "      <td>3.610664e+01</td>\n",
       "      <td>-1.152182e+02</td>\n",
       "      <td>1.854393e-01</td>\n",
       "    </tr>\n",
       "    <tr>\n",
       "      <th>50%</th>\n",
       "      <td>3.611724e+01</td>\n",
       "      <td>-1.151751e+02</td>\n",
       "      <td>3.611756e+01</td>\n",
       "      <td>-1.151796e+02</td>\n",
       "      <td>2.138392e+00</td>\n",
       "    </tr>\n",
       "    <tr>\n",
       "      <th>75%</th>\n",
       "      <td>3.614335e+01</td>\n",
       "      <td>-1.151657e+02</td>\n",
       "      <td>3.613374e+01</td>\n",
       "      <td>-1.151700e+02</td>\n",
       "      <td>5.392578e+00</td>\n",
       "    </tr>\n",
       "    <tr>\n",
       "      <th>max</th>\n",
       "      <td>3.638197e+01</td>\n",
       "      <td>-1.148963e+02</td>\n",
       "      <td>3.638197e+01</td>\n",
       "      <td>-1.148963e+02</td>\n",
       "      <td>4.029680e+01</td>\n",
       "    </tr>\n",
       "  </tbody>\n",
       "</table>\n",
       "</div>"
      ],
      "text/plain": [
       "           latitude     longitude  centroid_lat  centroid_long          dist\n",
       "count  1.167093e+06  1.167093e+06  1.167093e+06   1.167093e+06  1.167093e+06\n",
       "mean   3.612130e+01 -1.151934e+02  3.612130e+01  -1.151934e+02  3.322857e+00\n",
       "std    4.765990e-02  5.460900e-02  3.472839e-02   4.032052e-02  3.615710e+00\n",
       "min    3.592088e+01 -1.154530e+02  3.592088e+01  -1.154530e+02  0.000000e+00\n",
       "25%    3.610326e+01 -1.152241e+02  3.610664e+01  -1.152182e+02  1.854393e-01\n",
       "50%    3.611724e+01 -1.151751e+02  3.611756e+01  -1.151796e+02  2.138392e+00\n",
       "75%    3.614335e+01 -1.151657e+02  3.613374e+01  -1.151700e+02  5.392578e+00\n",
       "max    3.638197e+01 -1.148963e+02  3.638197e+01  -1.148963e+02  4.029680e+01"
      ]
     },
     "execution_count": 151,
     "metadata": {},
     "output_type": "execute_result"
    }
   ],
   "source": [
    "user_variance.describe()"
   ]
  },
  {
   "cell_type": "code",
   "execution_count": 152,
   "metadata": {
    "ExecuteTime": {
     "end_time": "2019-04-28T22:31:44.341117Z",
     "start_time": "2019-04-28T22:31:42.608561Z"
    }
   },
   "outputs": [
    {
     "data": {
      "text/plain": [
       "user_id\n",
       "---1lKK3aKOuomHnwAkAow    16.216284\n",
       "---udAKDsn0yQXmzbWQNSw     0.000003\n",
       "--0sXNBv6IizZXuV-nl0Aw          NaN\n",
       "--0zxhZTSLZ7w1hUD2bEwA          NaN\n",
       "--1mPJZdSY9KluaBYAGboQ          NaN\n",
       "Name: dist, dtype: float64"
      ]
     },
     "execution_count": 152,
     "metadata": {},
     "output_type": "execute_result"
    }
   ],
   "source": [
    "user_variance=user_variance.groupby(['user_id'])['dist'].var()\n",
    "user_variance.head()"
   ]
  },
  {
   "cell_type": "code",
   "execution_count": 159,
   "metadata": {
    "ExecuteTime": {
     "end_time": "2019-04-28T22:45:13.474400Z",
     "start_time": "2019-04-28T22:45:13.467422Z"
    }
   },
   "outputs": [],
   "source": [
    "user_variance.fillna(0,inplace=True)"
   ]
  },
  {
   "cell_type": "code",
   "execution_count": 162,
   "metadata": {
    "ExecuteTime": {
     "end_time": "2019-04-28T22:47:31.571070Z",
     "start_time": "2019-04-28T22:47:31.501257Z"
    }
   },
   "outputs": [
    {
     "data": {
      "text/html": [
       "<div>\n",
       "<style scoped>\n",
       "    .dataframe tbody tr th:only-of-type {\n",
       "        vertical-align: middle;\n",
       "    }\n",
       "\n",
       "    .dataframe tbody tr th {\n",
       "        vertical-align: top;\n",
       "    }\n",
       "\n",
       "    .dataframe thead th {\n",
       "        text-align: right;\n",
       "    }\n",
       "</style>\n",
       "<table border=\"1\" class=\"dataframe\">\n",
       "  <thead>\n",
       "    <tr style=\"text-align: right;\">\n",
       "      <th></th>\n",
       "      <th>dist</th>\n",
       "    </tr>\n",
       "  </thead>\n",
       "  <tbody>\n",
       "    <tr>\n",
       "      <th>count</th>\n",
       "      <td>4.232100e+05</td>\n",
       "    </tr>\n",
       "    <tr>\n",
       "      <th>mean</th>\n",
       "      <td>1.270706e+00</td>\n",
       "    </tr>\n",
       "    <tr>\n",
       "      <th>std</th>\n",
       "      <td>4.073685e+00</td>\n",
       "    </tr>\n",
       "    <tr>\n",
       "      <th>min</th>\n",
       "      <td>0.000000e+00</td>\n",
       "    </tr>\n",
       "    <tr>\n",
       "      <th>25%</th>\n",
       "      <td>0.000000e+00</td>\n",
       "    </tr>\n",
       "    <tr>\n",
       "      <th>50%</th>\n",
       "      <td>0.000000e+00</td>\n",
       "    </tr>\n",
       "    <tr>\n",
       "      <th>75%</th>\n",
       "      <td>3.202661e-07</td>\n",
       "    </tr>\n",
       "    <tr>\n",
       "      <th>max</th>\n",
       "      <td>1.454042e+02</td>\n",
       "    </tr>\n",
       "  </tbody>\n",
       "</table>\n",
       "</div>"
      ],
      "text/plain": [
       "               dist\n",
       "count  4.232100e+05\n",
       "mean   1.270706e+00\n",
       "std    4.073685e+00\n",
       "min    0.000000e+00\n",
       "25%    0.000000e+00\n",
       "50%    0.000000e+00\n",
       "75%    3.202661e-07\n",
       "max    1.454042e+02"
      ]
     },
     "execution_count": 162,
     "metadata": {},
     "output_type": "execute_result"
    }
   ],
   "source": [
    "user_variance=user_variance.reset_index()\n",
    "user_variance.describe()"
   ]
  },
  {
   "cell_type": "code",
   "execution_count": 164,
   "metadata": {
    "ExecuteTime": {
     "end_time": "2019-04-28T22:54:12.939542Z",
     "start_time": "2019-04-28T22:54:12.908626Z"
    }
   },
   "outputs": [
    {
     "data": {
      "text/html": [
       "<div>\n",
       "<style scoped>\n",
       "    .dataframe tbody tr th:only-of-type {\n",
       "        vertical-align: middle;\n",
       "    }\n",
       "\n",
       "    .dataframe tbody tr th {\n",
       "        vertical-align: top;\n",
       "    }\n",
       "\n",
       "    .dataframe thead th {\n",
       "        text-align: right;\n",
       "    }\n",
       "</style>\n",
       "<table border=\"1\" class=\"dataframe\">\n",
       "  <thead>\n",
       "    <tr style=\"text-align: right;\">\n",
       "      <th></th>\n",
       "      <th>user_id</th>\n",
       "      <th>variance</th>\n",
       "    </tr>\n",
       "  </thead>\n",
       "  <tbody>\n",
       "    <tr>\n",
       "      <th>0</th>\n",
       "      <td>---1lKK3aKOuomHnwAkAow</td>\n",
       "      <td>16.216284</td>\n",
       "    </tr>\n",
       "  </tbody>\n",
       "</table>\n",
       "</div>"
      ],
      "text/plain": [
       "                  user_id   variance\n",
       "0  ---1lKK3aKOuomHnwAkAow  16.216284"
      ]
     },
     "execution_count": 164,
     "metadata": {},
     "output_type": "execute_result"
    }
   ],
   "source": [
    "user_variance.rename(columns={'dist':'variance'},inplace=True)\n",
    "user_variance.head(1)"
   ]
  },
  {
   "cell_type": "code",
   "execution_count": 165,
   "metadata": {
    "ExecuteTime": {
     "end_time": "2019-04-28T22:54:23.401068Z",
     "start_time": "2019-04-28T22:54:23.167692Z"
    }
   },
   "outputs": [
    {
     "data": {
      "text/plain": [
       "(array([4.13969e+05, 7.99500e+03, 1.01200e+03, 1.78000e+02, 4.20000e+01,\n",
       "        6.00000e+00, 3.00000e+00, 2.00000e+00, 1.00000e+00, 2.00000e+00]),\n",
       " array([  0.        ,  14.54042333,  29.08084665,  43.62126998,\n",
       "         58.16169331,  72.70211663,  87.24253996, 101.78296329,\n",
       "        116.32338661, 130.86380994, 145.40423327]),\n",
       " <a list of 10 Patch objects>)"
      ]
     },
     "execution_count": 165,
     "metadata": {},
     "output_type": "execute_result"
    },
    {
     "data": {
      "image/png": "[encoded data removed]",
      "text/plain": [
       "<Figure size 432x288 with 1 Axes>"
      ]
     },
     "metadata": {
      "needs_background": "light"
     },
     "output_type": "display_data"
    }
   ],
   "source": [
    "plt.hist(user_variance.variance)"
   ]
  },
  {
   "cell_type": "code",
   "execution_count": 166,
   "metadata": {
    "ExecuteTime": {
     "end_time": "2019-04-28T22:55:09.417207Z",
     "start_time": "2019-04-28T22:54:59.916516Z"
    }
   },
   "outputs": [
    {
     "data": {
      "text/plain": [
       "<matplotlib.axes._subplots.AxesSubplot at 0x243f87f5080>"
      ]
     },
     "execution_count": 166,
     "metadata": {},
     "output_type": "execute_result"
    },
    {
     "data": {
      "image/png": "[encoded data removed]",
      "text/plain": [
       "<Figure size 432x288 with 1 Axes>"
      ]
     },
     "metadata": {
      "needs_background": "light"
     },
     "output_type": "display_data"
    }
   ],
   "source": [
    "sns.distplot(user_variance.variance,rug=True, hist=False, kde=True, \n",
    "             color = 'darkblue', \n",
    "             hist_kws={'edgecolor':'black'},\n",
    "             kde_kws={'linewidth': 4})"
   ]
  },
  {
   "cell_type": "code",
   "execution_count": 167,
   "metadata": {
    "ExecuteTime": {
     "end_time": "2019-04-28T22:55:18.150222Z",
     "start_time": "2019-04-28T22:55:15.605824Z"
    }
   },
   "outputs": [],
   "source": [
    "user_variance.to_csv('Data/LV_User_Loc_Var.csv',encoding='utf-8-sig')"
   ]
  },
  {
   "cell_type": "code",
   "execution_count": null,
   "metadata": {},
   "outputs": [],
   "source": []
  },
  {
   "cell_type": "code",
   "execution_count": null,
   "metadata": {},
   "outputs": [],
   "source": []
  },
  {
   "cell_type": "code",
   "execution_count": null,
   "metadata": {},
   "outputs": [],
   "source": []
  },
  {
   "cell_type": "code",
   "execution_count": null,
   "metadata": {},
   "outputs": [],
   "source": []
  },
  {
   "cell_type": "code",
   "execution_count": null,
   "metadata": {},
   "outputs": [],
   "source": [
    "# Avergae stars and total reviews in Las Ve"
   ]
  },
  {
   "cell_type": "code",
   "execution_count": 46,
   "metadata": {
    "ExecuteTime": {
     "end_time": "2019-04-25T03:03:02.314050Z",
     "start_time": "2019-04-25T03:03:02.293782Z"
    }
   },
   "outputs": [
    {
     "data": {
      "text/html": [
       "<div>\n",
       "<style scoped>\n",
       "    .dataframe tbody tr th:only-of-type {\n",
       "        vertical-align: middle;\n",
       "    }\n",
       "\n",
       "    .dataframe tbody tr th {\n",
       "        vertical-align: top;\n",
       "    }\n",
       "\n",
       "    .dataframe thead th {\n",
       "        text-align: right;\n",
       "    }\n",
       "</style>\n",
       "<table border=\"1\" class=\"dataframe\">\n",
       "  <thead>\n",
       "    <tr style=\"text-align: right;\">\n",
       "      <th></th>\n",
       "      <th>user_id</th>\n",
       "      <th>Total_Reviews</th>\n",
       "      <th>Avg_Stars</th>\n",
       "    </tr>\n",
       "  </thead>\n",
       "  <tbody>\n",
       "  </tbody>\n",
       "</table>\n",
       "</div>"
      ],
      "text/plain": [
       "Empty DataFrame\n",
       "Columns: [user_id, Total_Reviews, Avg_Stars]\n",
       "Index: []"
      ]
     },
     "execution_count": 46,
     "metadata": {},
     "output_type": "execute_result"
    }
   ],
   "source": [
    "review=pd.DataFrame(columns=['user_id','Total_Reviews','Avg_Stars'])\n",
    "review"
   ]
  },
  {
   "cell_type": "code",
   "execution_count": 47,
   "metadata": {
    "ExecuteTime": {
     "end_time": "2019-04-25T03:15:27.261507Z",
     "start_time": "2019-04-25T03:03:03.049650Z"
    }
   },
   "outputs": [],
   "source": [
    "for chunk in pd.read_json('Data/yelp_dataset/review.json',lines=True, chunksize=10**5):\n",
    "    review = pd.concat([review,chunk.groupby(['user_id']).agg({'business_id':'size','stars':'mean'}).rename(columns={'business_id':'Total_Reviews','stars':'Avg_Stars'}).reset_index()]).groupby(['user_id']).agg({'Total_Reviews':'sum','Avg_Stars':'mean'}).reset_index()"
   ]
  },
  {
   "cell_type": "code",
   "execution_count": 48,
   "metadata": {
    "ExecuteTime": {
     "end_time": "2019-04-25T03:15:27.806356Z",
     "start_time": "2019-04-25T03:15:27.267039Z"
    }
   },
   "outputs": [
    {
     "data": {
      "text/html": [
       "<div>\n",
       "<style scoped>\n",
       "    .dataframe tbody tr th:only-of-type {\n",
       "        vertical-align: middle;\n",
       "    }\n",
       "\n",
       "    .dataframe tbody tr th {\n",
       "        vertical-align: top;\n",
       "    }\n",
       "\n",
       "    .dataframe thead th {\n",
       "        text-align: right;\n",
       "    }\n",
       "</style>\n",
       "<table border=\"1\" class=\"dataframe\">\n",
       "  <thead>\n",
       "    <tr style=\"text-align: right;\">\n",
       "      <th></th>\n",
       "      <th>Total_Reviews</th>\n",
       "      <th>Avg_Stars</th>\n",
       "    </tr>\n",
       "  </thead>\n",
       "  <tbody>\n",
       "    <tr>\n",
       "      <th>count</th>\n",
       "      <td>1.637138e+06</td>\n",
       "      <td>1.637138e+06</td>\n",
       "    </tr>\n",
       "    <tr>\n",
       "      <th>mean</th>\n",
       "      <td>4.083895e+00</td>\n",
       "      <td>3.634935e+00</td>\n",
       "    </tr>\n",
       "    <tr>\n",
       "      <th>std</th>\n",
       "      <td>1.469266e+01</td>\n",
       "      <td>1.476091e+00</td>\n",
       "    </tr>\n",
       "    <tr>\n",
       "      <th>min</th>\n",
       "      <td>1.000000e+00</td>\n",
       "      <td>1.000000e+00</td>\n",
       "    </tr>\n",
       "    <tr>\n",
       "      <th>25%</th>\n",
       "      <td>1.000000e+00</td>\n",
       "      <td>2.500000e+00</td>\n",
       "    </tr>\n",
       "    <tr>\n",
       "      <th>50%</th>\n",
       "      <td>1.000000e+00</td>\n",
       "      <td>4.000000e+00</td>\n",
       "    </tr>\n",
       "    <tr>\n",
       "      <th>75%</th>\n",
       "      <td>3.000000e+00</td>\n",
       "      <td>5.000000e+00</td>\n",
       "    </tr>\n",
       "    <tr>\n",
       "      <th>max</th>\n",
       "      <td>4.129000e+03</td>\n",
       "      <td>5.000000e+00</td>\n",
       "    </tr>\n",
       "  </tbody>\n",
       "</table>\n",
       "</div>"
      ],
      "text/plain": [
       "       Total_Reviews     Avg_Stars\n",
       "count   1.637138e+06  1.637138e+06\n",
       "mean    4.083895e+00  3.634935e+00\n",
       "std     1.469266e+01  1.476091e+00\n",
       "min     1.000000e+00  1.000000e+00\n",
       "25%     1.000000e+00  2.500000e+00\n",
       "50%     1.000000e+00  4.000000e+00\n",
       "75%     3.000000e+00  5.000000e+00\n",
       "max     4.129000e+03  5.000000e+00"
      ]
     },
     "execution_count": 48,
     "metadata": {},
     "output_type": "execute_result"
    }
   ],
   "source": [
    "review.describe()"
   ]
  },
  {
   "cell_type": "code",
   "execution_count": 49,
   "metadata": {
    "ExecuteTime": {
     "end_time": "2019-04-25T03:16:22.858865Z",
     "start_time": "2019-04-25T03:16:22.846183Z"
    }
   },
   "outputs": [
    {
     "data": {
      "text/html": [
       "<div>\n",
       "<style scoped>\n",
       "    .dataframe tbody tr th:only-of-type {\n",
       "        vertical-align: middle;\n",
       "    }\n",
       "\n",
       "    .dataframe tbody tr th {\n",
       "        vertical-align: top;\n",
       "    }\n",
       "\n",
       "    .dataframe thead th {\n",
       "        text-align: right;\n",
       "    }\n",
       "</style>\n",
       "<table border=\"1\" class=\"dataframe\">\n",
       "  <thead>\n",
       "    <tr style=\"text-align: right;\">\n",
       "      <th></th>\n",
       "      <th>user_id</th>\n",
       "      <th>Total_Reviews</th>\n",
       "      <th>Avg_Stars</th>\n",
       "    </tr>\n",
       "  </thead>\n",
       "  <tbody>\n",
       "    <tr>\n",
       "      <th>0</th>\n",
       "      <td>---1lKK3aKOuomHnwAkAow</td>\n",
       "      <td>128</td>\n",
       "      <td>2.900173</td>\n",
       "    </tr>\n",
       "    <tr>\n",
       "      <th>1</th>\n",
       "      <td>---89pEy_h9PvHwcHNbpyg</td>\n",
       "      <td>1</td>\n",
       "      <td>5.000000</td>\n",
       "    </tr>\n",
       "    <tr>\n",
       "      <th>2</th>\n",
       "      <td>---94vtJ_5o_nikEs6hUjg</td>\n",
       "      <td>4</td>\n",
       "      <td>5.000000</td>\n",
       "    </tr>\n",
       "    <tr>\n",
       "      <th>3</th>\n",
       "      <td>---PLwSf5gKdIoVnyRHgBA</td>\n",
       "      <td>2</td>\n",
       "      <td>4.000000</td>\n",
       "    </tr>\n",
       "    <tr>\n",
       "      <th>4</th>\n",
       "      <td>---cu1hq55BP9DWVXXKHZg</td>\n",
       "      <td>3</td>\n",
       "      <td>1.750000</td>\n",
       "    </tr>\n",
       "  </tbody>\n",
       "</table>\n",
       "</div>"
      ],
      "text/plain": [
       "                  user_id  Total_Reviews  Avg_Stars\n",
       "0  ---1lKK3aKOuomHnwAkAow            128   2.900173\n",
       "1  ---89pEy_h9PvHwcHNbpyg              1   5.000000\n",
       "2  ---94vtJ_5o_nikEs6hUjg              4   5.000000\n",
       "3  ---PLwSf5gKdIoVnyRHgBA              2   4.000000\n",
       "4  ---cu1hq55BP9DWVXXKHZg              3   1.750000"
      ]
     },
     "execution_count": 49,
     "metadata": {},
     "output_type": "execute_result"
    }
   ],
   "source": [
    "review.head()"
   ]
  },
  {
   "cell_type": "code",
   "execution_count": 50,
   "metadata": {
    "ExecuteTime": {
     "end_time": "2019-04-25T03:16:31.233602Z",
     "start_time": "2019-04-25T03:16:31.219458Z"
    }
   },
   "outputs": [
    {
     "data": {
      "text/html": [
       "<div>\n",
       "<style scoped>\n",
       "    .dataframe tbody tr th:only-of-type {\n",
       "        vertical-align: middle;\n",
       "    }\n",
       "\n",
       "    .dataframe tbody tr th {\n",
       "        vertical-align: top;\n",
       "    }\n",
       "\n",
       "    .dataframe thead th {\n",
       "        text-align: right;\n",
       "    }\n",
       "</style>\n",
       "<table border=\"1\" class=\"dataframe\">\n",
       "  <thead>\n",
       "    <tr style=\"text-align: right;\">\n",
       "      <th></th>\n",
       "      <th>user_id</th>\n",
       "      <th>Total_Reviews</th>\n",
       "      <th>Avg_Stars</th>\n",
       "    </tr>\n",
       "  </thead>\n",
       "  <tbody>\n",
       "    <tr>\n",
       "      <th>1637133</th>\n",
       "      <td>zzzTrQ2bkvteEngjkXCTAA</td>\n",
       "      <td>2</td>\n",
       "      <td>5.0</td>\n",
       "    </tr>\n",
       "    <tr>\n",
       "      <th>1637134</th>\n",
       "      <td>zzzaIBwimxVej4tY6qFOUQ</td>\n",
       "      <td>1</td>\n",
       "      <td>5.0</td>\n",
       "    </tr>\n",
       "    <tr>\n",
       "      <th>1637135</th>\n",
       "      <td>zzzfcCWPDkg-kGVpqCKCEg</td>\n",
       "      <td>2</td>\n",
       "      <td>5.0</td>\n",
       "    </tr>\n",
       "    <tr>\n",
       "      <th>1637136</th>\n",
       "      <td>zzzhFxwfzL56CQVnw8piTw</td>\n",
       "      <td>1</td>\n",
       "      <td>5.0</td>\n",
       "    </tr>\n",
       "    <tr>\n",
       "      <th>1637137</th>\n",
       "      <td>zzzmshdEWLFCApxETl1TGQ</td>\n",
       "      <td>2</td>\n",
       "      <td>5.0</td>\n",
       "    </tr>\n",
       "  </tbody>\n",
       "</table>\n",
       "</div>"
      ],
      "text/plain": [
       "                        user_id  Total_Reviews  Avg_Stars\n",
       "1637133  zzzTrQ2bkvteEngjkXCTAA              2        5.0\n",
       "1637134  zzzaIBwimxVej4tY6qFOUQ              1        5.0\n",
       "1637135  zzzfcCWPDkg-kGVpqCKCEg              2        5.0\n",
       "1637136  zzzhFxwfzL56CQVnw8piTw              1        5.0\n",
       "1637137  zzzmshdEWLFCApxETl1TGQ              2        5.0"
      ]
     },
     "execution_count": 50,
     "metadata": {},
     "output_type": "execute_result"
    }
   ],
   "source": [
    "review.tail()"
   ]
  },
  {
   "cell_type": "code",
   "execution_count": 51,
   "metadata": {
    "ExecuteTime": {
     "end_time": "2019-04-25T03:20:39.611276Z",
     "start_time": "2019-04-25T03:20:22.122856Z"
    }
   },
   "outputs": [],
   "source": [
    "#review.to_csv('Data/Agg_Reviews_Stars.csv',encoding='utf-8-sig')"
   ]
  },
  {
   "cell_type": "code",
   "execution_count": null,
   "metadata": {},
   "outputs": [],
   "source": [
    "lv=pd.DataFrame(columns=['business_id','Total_Reviews','Avg_Stars'])\n",
    "lv"
   ]
  },
  {
   "cell_type": "code",
   "execution_count": null,
   "metadata": {},
   "outputs": [],
   "source": [
    "for chunk in pd.read_json('Data/yelp_dataset/review.json',lines=True, chunksize=10**5):\n",
    "    lv = pd.concat([lv,chunk.groupby(['user_id']).agg({'business_id':'size','stars':'mean'}).rename(columns={'business_id':'Total_Reviews','stars':'Avg_Stars'}).reset_index()]).groupby(['user_id']).agg({'Total_Reviews':'sum','Avg_Stars':'mean'}).reset_index()"
   ]
  },
  {
   "cell_type": "code",
   "execution_count": 59,
   "metadata": {
    "ExecuteTime": {
     "end_time": "2019-04-25T03:36:51.408086Z",
     "start_time": "2019-04-25T03:36:51.398484Z"
    }
   },
   "outputs": [
    {
     "data": {
      "text/plain": [
       "Index(['address', 'attributes', 'business_id', 'categories', 'city', 'hours',\n",
       "       'is_open', 'latitude', 'longitude', 'name', 'postal_code',\n",
       "       'review_count', 'stars', 'state'],\n",
       "      dtype='object')"
      ]
     },
     "execution_count": 59,
     "metadata": {},
     "output_type": "execute_result"
    }
   ],
   "source": [
    "business.columns"
   ]
  },
  {
   "cell_type": "code",
   "execution_count": 60,
   "metadata": {
    "ExecuteTime": {
     "end_time": "2019-04-25T03:38:00.119253Z",
     "start_time": "2019-04-25T03:38:00.087477Z"
    }
   },
   "outputs": [
    {
     "data": {
      "text/html": [
       "<div>\n",
       "<style scoped>\n",
       "    .dataframe tbody tr th:only-of-type {\n",
       "        vertical-align: middle;\n",
       "    }\n",
       "\n",
       "    .dataframe tbody tr th {\n",
       "        vertical-align: top;\n",
       "    }\n",
       "\n",
       "    .dataframe thead th {\n",
       "        text-align: right;\n",
       "    }\n",
       "</style>\n",
       "<table border=\"1\" class=\"dataframe\">\n",
       "  <thead>\n",
       "    <tr style=\"text-align: right;\">\n",
       "      <th></th>\n",
       "      <th>address</th>\n",
       "      <th>attributes</th>\n",
       "      <th>business_id</th>\n",
       "      <th>categories</th>\n",
       "      <th>city</th>\n",
       "      <th>hours</th>\n",
       "      <th>is_open</th>\n",
       "      <th>latitude</th>\n",
       "      <th>longitude</th>\n",
       "      <th>name</th>\n",
       "      <th>postal_code</th>\n",
       "      <th>review_count</th>\n",
       "      <th>stars</th>\n",
       "      <th>state</th>\n",
       "    </tr>\n",
       "  </thead>\n",
       "  <tbody>\n",
       "    <tr>\n",
       "      <th>7</th>\n",
       "      <td>4545 E Tropicana Rd Ste 8, Tropicana</td>\n",
       "      <td>{'RestaurantsPriceRange2': '3', 'GoodForKids':...</td>\n",
       "      <td>gbQN7vr_caG_A1ugSmGhWg</td>\n",
       "      <td>Hair Salons, Hair Stylists, Barbers, Men's Hai...</td>\n",
       "      <td>Las Vegas</td>\n",
       "      <td>{'Monday': '10:0-19:0', 'Tuesday': '10:0-19:0'...</td>\n",
       "      <td>1</td>\n",
       "      <td>36.099872</td>\n",
       "      <td>-115.074574</td>\n",
       "      <td>Supercuts</td>\n",
       "      <td>89121</td>\n",
       "      <td>3</td>\n",
       "      <td>3.5</td>\n",
       "      <td>NV</td>\n",
       "    </tr>\n",
       "    <tr>\n",
       "      <th>17</th>\n",
       "      <td>1775 E Tropicana Ave, Ste 29</td>\n",
       "      <td>{'OutdoorSeating': 'False', 'BusinessAcceptsCr...</td>\n",
       "      <td>PZ-LZzSlhSe9utkQYU8pFg</td>\n",
       "      <td>Restaurants, Italian</td>\n",
       "      <td>Las Vegas</td>\n",
       "      <td>None</td>\n",
       "      <td>0</td>\n",
       "      <td>36.100016</td>\n",
       "      <td>-115.128529</td>\n",
       "      <td>Carluccio's Tivoli Gardens</td>\n",
       "      <td>89119</td>\n",
       "      <td>40</td>\n",
       "      <td>4.0</td>\n",
       "      <td>NV</td>\n",
       "    </tr>\n",
       "    <tr>\n",
       "      <th>18</th>\n",
       "      <td></td>\n",
       "      <td>{'BusinessAcceptsCreditCards': 'True'}</td>\n",
       "      <td>nh_kQ16QAoXWwqZ05MPfBQ</td>\n",
       "      <td>Event Planning &amp; Services, Photographers, Prof...</td>\n",
       "      <td>Las Vegas</td>\n",
       "      <td>{'Monday': '0:0-0:0', 'Tuesday': '0:0-0:0', 'W...</td>\n",
       "      <td>1</td>\n",
       "      <td>36.116549</td>\n",
       "      <td>-115.088115</td>\n",
       "      <td>Myron Hensel Photography</td>\n",
       "      <td>89121</td>\n",
       "      <td>21</td>\n",
       "      <td>5.0</td>\n",
       "      <td>NV</td>\n",
       "    </tr>\n",
       "    <tr>\n",
       "      <th>20</th>\n",
       "      <td>450 Fremont St, Ste 179</td>\n",
       "      <td>{'GoodForKids': 'True'}</td>\n",
       "      <td>dFMxzHygTy6F873843dHAA</td>\n",
       "      <td>Arcades, Arts &amp; Entertainment</td>\n",
       "      <td>Las Vegas</td>\n",
       "      <td>{'Monday': '11:0-0:0', 'Tuesday': '11:0-0:0', ...</td>\n",
       "      <td>1</td>\n",
       "      <td>36.169993</td>\n",
       "      <td>-115.140685</td>\n",
       "      <td>Fremont Arcade</td>\n",
       "      <td>89101</td>\n",
       "      <td>38</td>\n",
       "      <td>4.5</td>\n",
       "      <td>NV</td>\n",
       "    </tr>\n",
       "    <tr>\n",
       "      <th>22</th>\n",
       "      <td>6007 Dean Martin Dr</td>\n",
       "      <td>{'BikeParking': 'False', 'Ambience': '{'romant...</td>\n",
       "      <td>KWywu2tTEPWmR9JnBc0WyQ</td>\n",
       "      <td>Nightlife, Arts &amp; Entertainment, Bars, Strip C...</td>\n",
       "      <td>Las Vegas</td>\n",
       "      <td>{'Thursday': '19:30-2:0', 'Friday': '19:30-3:0...</td>\n",
       "      <td>1</td>\n",
       "      <td>36.080168</td>\n",
       "      <td>-115.182756</td>\n",
       "      <td>Hunk Mansion</td>\n",
       "      <td>89118</td>\n",
       "      <td>107</td>\n",
       "      <td>4.0</td>\n",
       "      <td>NV</td>\n",
       "    </tr>\n",
       "  </tbody>\n",
       "</table>\n",
       "</div>"
      ],
      "text/plain": [
       "                                 address  \\\n",
       "7   4545 E Tropicana Rd Ste 8, Tropicana   \n",
       "17          1775 E Tropicana Ave, Ste 29   \n",
       "18                                         \n",
       "20               450 Fremont St, Ste 179   \n",
       "22                   6007 Dean Martin Dr   \n",
       "\n",
       "                                           attributes             business_id  \\\n",
       "7   {'RestaurantsPriceRange2': '3', 'GoodForKids':...  gbQN7vr_caG_A1ugSmGhWg   \n",
       "17  {'OutdoorSeating': 'False', 'BusinessAcceptsCr...  PZ-LZzSlhSe9utkQYU8pFg   \n",
       "18             {'BusinessAcceptsCreditCards': 'True'}  nh_kQ16QAoXWwqZ05MPfBQ   \n",
       "20                            {'GoodForKids': 'True'}  dFMxzHygTy6F873843dHAA   \n",
       "22  {'BikeParking': 'False', 'Ambience': '{'romant...  KWywu2tTEPWmR9JnBc0WyQ   \n",
       "\n",
       "                                           categories       city  \\\n",
       "7   Hair Salons, Hair Stylists, Barbers, Men's Hai...  Las Vegas   \n",
       "17                               Restaurants, Italian  Las Vegas   \n",
       "18  Event Planning & Services, Photographers, Prof...  Las Vegas   \n",
       "20                      Arcades, Arts & Entertainment  Las Vegas   \n",
       "22  Nightlife, Arts & Entertainment, Bars, Strip C...  Las Vegas   \n",
       "\n",
       "                                                hours  is_open   latitude  \\\n",
       "7   {'Monday': '10:0-19:0', 'Tuesday': '10:0-19:0'...        1  36.099872   \n",
       "17                                               None        0  36.100016   \n",
       "18  {'Monday': '0:0-0:0', 'Tuesday': '0:0-0:0', 'W...        1  36.116549   \n",
       "20  {'Monday': '11:0-0:0', 'Tuesday': '11:0-0:0', ...        1  36.169993   \n",
       "22  {'Thursday': '19:30-2:0', 'Friday': '19:30-3:0...        1  36.080168   \n",
       "\n",
       "     longitude                        name postal_code  review_count  stars  \\\n",
       "7  -115.074574                   Supercuts       89121             3    3.5   \n",
       "17 -115.128529  Carluccio's Tivoli Gardens       89119            40    4.0   \n",
       "18 -115.088115    Myron Hensel Photography       89121            21    5.0   \n",
       "20 -115.140685              Fremont Arcade       89101            38    4.5   \n",
       "22 -115.182756                Hunk Mansion       89118           107    4.0   \n",
       "\n",
       "   state  \n",
       "7     NV  \n",
       "17    NV  \n",
       "18    NV  \n",
       "20    NV  \n",
       "22    NV  "
      ]
     },
     "execution_count": 60,
     "metadata": {},
     "output_type": "execute_result"
    }
   ],
   "source": [
    "business.head()"
   ]
  },
  {
   "cell_type": "markdown",
   "metadata": {},
   "source": [
    "# Maturity Feature"
   ]
  },
  {
   "cell_type": "code",
   "execution_count": 5,
   "metadata": {
    "ExecuteTime": {
     "end_time": "2019-05-16T03:34:32.978257Z",
     "start_time": "2019-05-16T03:34:29.299941Z"
    }
   },
   "outputs": [
    {
     "data": {
      "text/html": [
       "<div>\n",
       "<style scoped>\n",
       "    .dataframe tbody tr th:only-of-type {\n",
       "        vertical-align: middle;\n",
       "    }\n",
       "\n",
       "    .dataframe tbody tr th {\n",
       "        vertical-align: top;\n",
       "    }\n",
       "\n",
       "    .dataframe thead th {\n",
       "        text-align: right;\n",
       "    }\n",
       "</style>\n",
       "<table border=\"1\" class=\"dataframe\">\n",
       "  <thead>\n",
       "    <tr style=\"text-align: right;\">\n",
       "      <th></th>\n",
       "      <th>business_id</th>\n",
       "      <th>stars</th>\n",
       "      <th>user_id</th>\n",
       "      <th>categories</th>\n",
       "    </tr>\n",
       "  </thead>\n",
       "  <tbody>\n",
       "    <tr>\n",
       "      <th>0</th>\n",
       "      <td>8mIrX_LrOnAqWsB5JrOojQ</td>\n",
       "      <td>4</td>\n",
       "      <td>FIk4lQQu1eTe2EpzQ4xhBA</td>\n",
       "      <td>Performing Arts, Amusement Parks, Museums, Arc...</td>\n",
       "    </tr>\n",
       "    <tr>\n",
       "      <th>1</th>\n",
       "      <td>8mIrX_LrOnAqWsB5JrOojQ</td>\n",
       "      <td>4</td>\n",
       "      <td>EfnzVzqWJUVEv8ft3fW2sQ</td>\n",
       "      <td>Performing Arts, Amusement Parks, Museums, Arc...</td>\n",
       "    </tr>\n",
       "    <tr>\n",
       "      <th>2</th>\n",
       "      <td>8mIrX_LrOnAqWsB5JrOojQ</td>\n",
       "      <td>5</td>\n",
       "      <td>LM3neYWMOghn2bgvYNRi7g</td>\n",
       "      <td>Performing Arts, Amusement Parks, Museums, Arc...</td>\n",
       "    </tr>\n",
       "    <tr>\n",
       "      <th>3</th>\n",
       "      <td>8mIrX_LrOnAqWsB5JrOojQ</td>\n",
       "      <td>3</td>\n",
       "      <td>UEKG996TTiwonMpXwH-ixQ</td>\n",
       "      <td>Performing Arts, Amusement Parks, Museums, Arc...</td>\n",
       "    </tr>\n",
       "    <tr>\n",
       "      <th>4</th>\n",
       "      <td>8mIrX_LrOnAqWsB5JrOojQ</td>\n",
       "      <td>5</td>\n",
       "      <td>yMh4OF_Li2gJzE5rJ8oCbA</td>\n",
       "      <td>Performing Arts, Amusement Parks, Museums, Arc...</td>\n",
       "    </tr>\n",
       "  </tbody>\n",
       "</table>\n",
       "</div>"
      ],
      "text/plain": [
       "              business_id  stars                 user_id  \\\n",
       "0  8mIrX_LrOnAqWsB5JrOojQ      4  FIk4lQQu1eTe2EpzQ4xhBA   \n",
       "1  8mIrX_LrOnAqWsB5JrOojQ      4  EfnzVzqWJUVEv8ft3fW2sQ   \n",
       "2  8mIrX_LrOnAqWsB5JrOojQ      5  LM3neYWMOghn2bgvYNRi7g   \n",
       "3  8mIrX_LrOnAqWsB5JrOojQ      3  UEKG996TTiwonMpXwH-ixQ   \n",
       "4  8mIrX_LrOnAqWsB5JrOojQ      5  yMh4OF_Li2gJzE5rJ8oCbA   \n",
       "\n",
       "                                          categories  \n",
       "0  Performing Arts, Amusement Parks, Museums, Arc...  \n",
       "1  Performing Arts, Amusement Parks, Museums, Arc...  \n",
       "2  Performing Arts, Amusement Parks, Museums, Arc...  \n",
       "3  Performing Arts, Amusement Parks, Museums, Arc...  \n",
       "4  Performing Arts, Amusement Parks, Museums, Arc...  "
      ]
     },
     "execution_count": 5,
     "metadata": {},
     "output_type": "execute_result"
    }
   ],
   "source": [
    "reviews_lv = pd.read_csv('Data/LV_Reviews_Categories.csv')\n",
    "reviews_lv.head()"
   ]
  },
  {
   "cell_type": "code",
   "execution_count": 6,
   "metadata": {
    "ExecuteTime": {
     "end_time": "2019-05-16T03:35:47.092156Z",
     "start_time": "2019-05-16T03:35:45.432158Z"
    }
   },
   "outputs": [
    {
     "data": {
      "text/html": [
       "<div>\n",
       "<style scoped>\n",
       "    .dataframe tbody tr th:only-of-type {\n",
       "        vertical-align: middle;\n",
       "    }\n",
       "\n",
       "    .dataframe tbody tr th {\n",
       "        vertical-align: top;\n",
       "    }\n",
       "\n",
       "    .dataframe thead th {\n",
       "        text-align: right;\n",
       "    }\n",
       "</style>\n",
       "<table border=\"1\" class=\"dataframe\">\n",
       "  <thead>\n",
       "    <tr style=\"text-align: right;\">\n",
       "      <th></th>\n",
       "      <th>user_id</th>\n",
       "      <th>stars</th>\n",
       "    </tr>\n",
       "  </thead>\n",
       "  <tbody>\n",
       "    <tr>\n",
       "      <th>0</th>\n",
       "      <td>---1lKK3aKOuomHnwAkAow</td>\n",
       "      <td>3.62069</td>\n",
       "    </tr>\n",
       "    <tr>\n",
       "      <th>1</th>\n",
       "      <td>---udAKDsn0yQXmzbWQNSw</td>\n",
       "      <td>4.50000</td>\n",
       "    </tr>\n",
       "    <tr>\n",
       "      <th>2</th>\n",
       "      <td>--0sXNBv6IizZXuV-nl0Aw</td>\n",
       "      <td>5.00000</td>\n",
       "    </tr>\n",
       "    <tr>\n",
       "      <th>3</th>\n",
       "      <td>--0zxhZTSLZ7w1hUD2bEwA</td>\n",
       "      <td>5.00000</td>\n",
       "    </tr>\n",
       "    <tr>\n",
       "      <th>4</th>\n",
       "      <td>--1mPJZdSY9KluaBYAGboQ</td>\n",
       "      <td>5.00000</td>\n",
       "    </tr>\n",
       "  </tbody>\n",
       "</table>\n",
       "</div>"
      ],
      "text/plain": [
       "                  user_id    stars\n",
       "0  ---1lKK3aKOuomHnwAkAow  3.62069\n",
       "1  ---udAKDsn0yQXmzbWQNSw  4.50000\n",
       "2  --0sXNBv6IizZXuV-nl0Aw  5.00000\n",
       "3  --0zxhZTSLZ7w1hUD2bEwA  5.00000\n",
       "4  --1mPJZdSY9KluaBYAGboQ  5.00000"
      ]
     },
     "execution_count": 6,
     "metadata": {},
     "output_type": "execute_result"
    }
   ],
   "source": [
    "users_lv=reviews_lv.groupby(['user_id'])['stars'].mean().reset_index()\n",
    "users_lv.head()"
   ]
  },
  {
   "cell_type": "code",
   "execution_count": 7,
   "metadata": {
    "ExecuteTime": {
     "end_time": "2019-05-16T03:36:04.493720Z",
     "start_time": "2019-05-16T03:36:04.437723Z"
    }
   },
   "outputs": [],
   "source": [
    "user = pd.read_json('Data/yelp_dataset/user.json',lines=True, chunksize=10**5)"
   ]
  },
  {
   "cell_type": "code",
   "execution_count": 8,
   "metadata": {
    "ExecuteTime": {
     "end_time": "2019-05-16T03:37:48.051799Z",
     "start_time": "2019-05-16T03:36:05.233721Z"
    }
   },
   "outputs": [
    {
     "data": {
      "text/html": [
       "<div>\n",
       "<style scoped>\n",
       "    .dataframe tbody tr th:only-of-type {\n",
       "        vertical-align: middle;\n",
       "    }\n",
       "\n",
       "    .dataframe tbody tr th {\n",
       "        vertical-align: top;\n",
       "    }\n",
       "\n",
       "    .dataframe thead th {\n",
       "        text-align: right;\n",
       "    }\n",
       "</style>\n",
       "<table border=\"1\" class=\"dataframe\">\n",
       "  <thead>\n",
       "    <tr style=\"text-align: right;\">\n",
       "      <th></th>\n",
       "      <th>user_id</th>\n",
       "      <th>average_stars</th>\n",
       "      <th>review_count</th>\n",
       "      <th>useful</th>\n",
       "      <th>yelping_since</th>\n",
       "    </tr>\n",
       "  </thead>\n",
       "  <tbody>\n",
       "    <tr>\n",
       "      <th>0</th>\n",
       "      <td>l6BmjZMeQD3rDxWUbiAiow</td>\n",
       "      <td>4.03</td>\n",
       "      <td>95</td>\n",
       "      <td>84</td>\n",
       "      <td>2013-10-08 23:11:33</td>\n",
       "    </tr>\n",
       "    <tr>\n",
       "      <th>1</th>\n",
       "      <td>4XChL029mKr5hydo79Ljxg</td>\n",
       "      <td>3.63</td>\n",
       "      <td>33</td>\n",
       "      <td>48</td>\n",
       "      <td>2013-02-21 22:29:06</td>\n",
       "    </tr>\n",
       "    <tr>\n",
       "      <th>2</th>\n",
       "      <td>bc8C_eETBWL0olvFSJJd0w</td>\n",
       "      <td>3.71</td>\n",
       "      <td>16</td>\n",
       "      <td>28</td>\n",
       "      <td>2013-10-04 00:16:10</td>\n",
       "    </tr>\n",
       "    <tr>\n",
       "      <th>3</th>\n",
       "      <td>dD0gZpBctWGdWo9WlGuhlA</td>\n",
       "      <td>4.85</td>\n",
       "      <td>17</td>\n",
       "      <td>30</td>\n",
       "      <td>2014-05-22 15:57:30</td>\n",
       "    </tr>\n",
       "    <tr>\n",
       "      <th>4</th>\n",
       "      <td>MM4RJAeH6yuaN8oZDSt0RA</td>\n",
       "      <td>4.08</td>\n",
       "      <td>361</td>\n",
       "      <td>1114</td>\n",
       "      <td>2013-10-23 07:02:50</td>\n",
       "    </tr>\n",
       "  </tbody>\n",
       "</table>\n",
       "</div>"
      ],
      "text/plain": [
       "                  user_id  average_stars review_count useful  \\\n",
       "0  l6BmjZMeQD3rDxWUbiAiow           4.03           95     84   \n",
       "1  4XChL029mKr5hydo79Ljxg           3.63           33     48   \n",
       "2  bc8C_eETBWL0olvFSJJd0w           3.71           16     28   \n",
       "3  dD0gZpBctWGdWo9WlGuhlA           4.85           17     30   \n",
       "4  MM4RJAeH6yuaN8oZDSt0RA           4.08          361   1114   \n",
       "\n",
       "         yelping_since  \n",
       "0  2013-10-08 23:11:33  \n",
       "1  2013-02-21 22:29:06  \n",
       "2  2013-10-04 00:16:10  \n",
       "3  2014-05-22 15:57:30  \n",
       "4  2013-10-23 07:02:50  "
      ]
     },
     "execution_count": 8,
     "metadata": {},
     "output_type": "execute_result"
    }
   ],
   "source": [
    "users=pd.DataFrame(columns=['user_id','average_stars','review_count','useful','yelping_since'])\n",
    "for chunk in user:\n",
    "    chunk=chunk[['user_id','average_stars','review_count','useful','yelping_since']]\n",
    "    users=pd.concat([users,chunk])\n",
    "    \n",
    "users.head()"
   ]
  },
  {
   "cell_type": "code",
   "execution_count": 9,
   "metadata": {
    "ExecuteTime": {
     "end_time": "2019-05-16T03:37:53.135794Z",
     "start_time": "2019-05-16T03:37:48.055799Z"
    }
   },
   "outputs": [
    {
     "data": {
      "text/html": [
       "<div>\n",
       "<style scoped>\n",
       "    .dataframe tbody tr th:only-of-type {\n",
       "        vertical-align: middle;\n",
       "    }\n",
       "\n",
       "    .dataframe tbody tr th {\n",
       "        vertical-align: top;\n",
       "    }\n",
       "\n",
       "    .dataframe thead th {\n",
       "        text-align: right;\n",
       "    }\n",
       "</style>\n",
       "<table border=\"1\" class=\"dataframe\">\n",
       "  <thead>\n",
       "    <tr style=\"text-align: right;\">\n",
       "      <th></th>\n",
       "      <th>user_id</th>\n",
       "      <th>average_stars</th>\n",
       "      <th>review_count</th>\n",
       "      <th>useful</th>\n",
       "      <th>yelping_since</th>\n",
       "    </tr>\n",
       "  </thead>\n",
       "  <tbody>\n",
       "    <tr>\n",
       "      <th>0</th>\n",
       "      <td>l6BmjZMeQD3rDxWUbiAiow</td>\n",
       "      <td>4.03</td>\n",
       "      <td>95</td>\n",
       "      <td>84</td>\n",
       "      <td>2013-10-08 23:11:33</td>\n",
       "    </tr>\n",
       "    <tr>\n",
       "      <th>1</th>\n",
       "      <td>4XChL029mKr5hydo79Ljxg</td>\n",
       "      <td>3.63</td>\n",
       "      <td>33</td>\n",
       "      <td>48</td>\n",
       "      <td>2013-02-21 22:29:06</td>\n",
       "    </tr>\n",
       "    <tr>\n",
       "      <th>2</th>\n",
       "      <td>bc8C_eETBWL0olvFSJJd0w</td>\n",
       "      <td>3.71</td>\n",
       "      <td>16</td>\n",
       "      <td>28</td>\n",
       "      <td>2013-10-04 00:16:10</td>\n",
       "    </tr>\n",
       "    <tr>\n",
       "      <th>3</th>\n",
       "      <td>dD0gZpBctWGdWo9WlGuhlA</td>\n",
       "      <td>4.85</td>\n",
       "      <td>17</td>\n",
       "      <td>30</td>\n",
       "      <td>2014-05-22 15:57:30</td>\n",
       "    </tr>\n",
       "    <tr>\n",
       "      <th>4</th>\n",
       "      <td>MM4RJAeH6yuaN8oZDSt0RA</td>\n",
       "      <td>4.08</td>\n",
       "      <td>361</td>\n",
       "      <td>1114</td>\n",
       "      <td>2013-10-23 07:02:50</td>\n",
       "    </tr>\n",
       "  </tbody>\n",
       "</table>\n",
       "</div>"
      ],
      "text/plain": [
       "                  user_id  average_stars review_count useful  \\\n",
       "0  l6BmjZMeQD3rDxWUbiAiow           4.03           95     84   \n",
       "1  4XChL029mKr5hydo79Ljxg           3.63           33     48   \n",
       "2  bc8C_eETBWL0olvFSJJd0w           3.71           16     28   \n",
       "3  dD0gZpBctWGdWo9WlGuhlA           4.85           17     30   \n",
       "4  MM4RJAeH6yuaN8oZDSt0RA           4.08          361   1114   \n",
       "\n",
       "        yelping_since  \n",
       "0 2013-10-08 23:11:33  \n",
       "1 2013-02-21 22:29:06  \n",
       "2 2013-10-04 00:16:10  \n",
       "3 2014-05-22 15:57:30  \n",
       "4 2013-10-23 07:02:50  "
      ]
     },
     "execution_count": 9,
     "metadata": {},
     "output_type": "execute_result"
    }
   ],
   "source": [
    "users['yelping_since'] =  pd.to_datetime(users['yelping_since'])\n",
    "users.head()"
   ]
  },
  {
   "cell_type": "code",
   "execution_count": 10,
   "metadata": {
    "ExecuteTime": {
     "end_time": "2019-05-16T03:37:53.143794Z",
     "start_time": "2019-05-16T03:37:53.139793Z"
    }
   },
   "outputs": [],
   "source": [
    "#, format='%d%b%Y:%H:%M:%S.%f'"
   ]
  },
  {
   "cell_type": "code",
   "execution_count": 11,
   "metadata": {
    "ExecuteTime": {
     "end_time": "2019-05-16T03:44:07.761807Z",
     "start_time": "2019-05-16T03:37:53.147793Z"
    }
   },
   "outputs": [
    {
     "data": {
      "text/html": [
       "<div>\n",
       "<style scoped>\n",
       "    .dataframe tbody tr th:only-of-type {\n",
       "        vertical-align: middle;\n",
       "    }\n",
       "\n",
       "    .dataframe tbody tr th {\n",
       "        vertical-align: top;\n",
       "    }\n",
       "\n",
       "    .dataframe thead th {\n",
       "        text-align: right;\n",
       "    }\n",
       "</style>\n",
       "<table border=\"1\" class=\"dataframe\">\n",
       "  <thead>\n",
       "    <tr style=\"text-align: right;\">\n",
       "      <th></th>\n",
       "      <th>user_id</th>\n",
       "      <th>average_stars</th>\n",
       "      <th>review_count</th>\n",
       "      <th>useful</th>\n",
       "      <th>yelping_since</th>\n",
       "      <th>maturity</th>\n",
       "    </tr>\n",
       "  </thead>\n",
       "  <tbody>\n",
       "    <tr>\n",
       "      <th>0</th>\n",
       "      <td>l6BmjZMeQD3rDxWUbiAiow</td>\n",
       "      <td>4.03</td>\n",
       "      <td>95</td>\n",
       "      <td>84</td>\n",
       "      <td>2013-10-08 23:11:33</td>\n",
       "      <td>0.046477</td>\n",
       "    </tr>\n",
       "    <tr>\n",
       "      <th>1</th>\n",
       "      <td>4XChL029mKr5hydo79Ljxg</td>\n",
       "      <td>3.63</td>\n",
       "      <td>33</td>\n",
       "      <td>48</td>\n",
       "      <td>2013-02-21 22:29:06</td>\n",
       "      <td>0.014518</td>\n",
       "    </tr>\n",
       "    <tr>\n",
       "      <th>2</th>\n",
       "      <td>bc8C_eETBWL0olvFSJJd0w</td>\n",
       "      <td>3.71</td>\n",
       "      <td>16</td>\n",
       "      <td>28</td>\n",
       "      <td>2013-10-04 00:16:10</td>\n",
       "      <td>0.007812</td>\n",
       "    </tr>\n",
       "    <tr>\n",
       "      <th>3</th>\n",
       "      <td>dD0gZpBctWGdWo9WlGuhlA</td>\n",
       "      <td>4.85</td>\n",
       "      <td>17</td>\n",
       "      <td>30</td>\n",
       "      <td>2014-05-22 15:57:30</td>\n",
       "      <td>0.009351</td>\n",
       "    </tr>\n",
       "    <tr>\n",
       "      <th>4</th>\n",
       "      <td>MM4RJAeH6yuaN8oZDSt0RA</td>\n",
       "      <td>4.08</td>\n",
       "      <td>361</td>\n",
       "      <td>1114</td>\n",
       "      <td>2013-10-23 07:02:50</td>\n",
       "      <td>0.177920</td>\n",
       "    </tr>\n",
       "  </tbody>\n",
       "</table>\n",
       "</div>"
      ],
      "text/plain": [
       "                  user_id  average_stars review_count useful  \\\n",
       "0  l6BmjZMeQD3rDxWUbiAiow           4.03           95     84   \n",
       "1  4XChL029mKr5hydo79Ljxg           3.63           33     48   \n",
       "2  bc8C_eETBWL0olvFSJJd0w           3.71           16     28   \n",
       "3  dD0gZpBctWGdWo9WlGuhlA           4.85           17     30   \n",
       "4  MM4RJAeH6yuaN8oZDSt0RA           4.08          361   1114   \n",
       "\n",
       "        yelping_since  maturity  \n",
       "0 2013-10-08 23:11:33  0.046477  \n",
       "1 2013-02-21 22:29:06  0.014518  \n",
       "2 2013-10-04 00:16:10  0.007812  \n",
       "3 2014-05-22 15:57:30  0.009351  \n",
       "4 2013-10-23 07:02:50  0.177920  "
      ]
     },
     "execution_count": 11,
     "metadata": {},
     "output_type": "execute_result"
    }
   ],
   "source": [
    "today = pd.to_datetime('05/15/2019')\n",
    "for index, row in users.iterrows():\n",
    "    users.at[index,'maturity']=row.review_count/(today-row.yelping_since).days\n",
    "    \n",
    "users.head()"
   ]
  },
  {
   "cell_type": "code",
   "execution_count": 13,
   "metadata": {
    "ExecuteTime": {
     "end_time": "2019-05-16T03:49:52.153868Z",
     "start_time": "2019-05-16T03:49:49.833905Z"
    }
   },
   "outputs": [
    {
     "data": {
      "text/html": [
       "<div>\n",
       "<style scoped>\n",
       "    .dataframe tbody tr th:only-of-type {\n",
       "        vertical-align: middle;\n",
       "    }\n",
       "\n",
       "    .dataframe tbody tr th {\n",
       "        vertical-align: top;\n",
       "    }\n",
       "\n",
       "    .dataframe thead th {\n",
       "        text-align: right;\n",
       "    }\n",
       "</style>\n",
       "<table border=\"1\" class=\"dataframe\">\n",
       "  <thead>\n",
       "    <tr style=\"text-align: right;\">\n",
       "      <th></th>\n",
       "      <th>user_id</th>\n",
       "      <th>maturity</th>\n",
       "    </tr>\n",
       "  </thead>\n",
       "  <tbody>\n",
       "    <tr>\n",
       "      <th>0</th>\n",
       "      <td>---1lKK3aKOuomHnwAkAow</td>\n",
       "      <td>0.058459</td>\n",
       "    </tr>\n",
       "    <tr>\n",
       "      <th>1</th>\n",
       "      <td>---udAKDsn0yQXmzbWQNSw</td>\n",
       "      <td>0.030560</td>\n",
       "    </tr>\n",
       "    <tr>\n",
       "      <th>2</th>\n",
       "      <td>--0sXNBv6IizZXuV-nl0Aw</td>\n",
       "      <td>0.000432</td>\n",
       "    </tr>\n",
       "    <tr>\n",
       "      <th>3</th>\n",
       "      <td>--0zxhZTSLZ7w1hUD2bEwA</td>\n",
       "      <td>0.045059</td>\n",
       "    </tr>\n",
       "    <tr>\n",
       "      <th>4</th>\n",
       "      <td>--1mPJZdSY9KluaBYAGboQ</td>\n",
       "      <td>0.002090</td>\n",
       "    </tr>\n",
       "  </tbody>\n",
       "</table>\n",
       "</div>"
      ],
      "text/plain": [
       "                  user_id  maturity\n",
       "0  ---1lKK3aKOuomHnwAkAow  0.058459\n",
       "1  ---udAKDsn0yQXmzbWQNSw  0.030560\n",
       "2  --0sXNBv6IizZXuV-nl0Aw  0.000432\n",
       "3  --0zxhZTSLZ7w1hUD2bEwA  0.045059\n",
       "4  --1mPJZdSY9KluaBYAGboQ  0.002090"
      ]
     },
     "execution_count": 13,
     "metadata": {},
     "output_type": "execute_result"
    }
   ],
   "source": [
    "users_lv=users_lv.merge(users[['user_id','maturity']],on='user_id')\n",
    "users_lv.head()"
   ]
  },
  {
   "cell_type": "code",
   "execution_count": 15,
   "metadata": {
    "ExecuteTime": {
     "end_time": "2019-05-16T03:52:10.656794Z",
     "start_time": "2019-05-16T03:52:10.648797Z"
    }
   },
   "outputs": [
    {
     "data": {
      "text/plain": [
       "(439173, 2)"
      ]
     },
     "execution_count": 15,
     "metadata": {},
     "output_type": "execute_result"
    }
   ],
   "source": [
    "users_lv.shape"
   ]
  },
  {
   "cell_type": "code",
   "execution_count": 17,
   "metadata": {
    "ExecuteTime": {
     "end_time": "2019-05-16T03:53:25.687273Z",
     "start_time": "2019-05-16T03:53:25.195271Z"
    }
   },
   "outputs": [
    {
     "data": {
      "text/plain": [
       "439173"
      ]
     },
     "execution_count": 17,
     "metadata": {},
     "output_type": "execute_result"
    }
   ],
   "source": [
    "reviews_lv['user_id'].nunique()"
   ]
  },
  {
   "cell_type": "code",
   "execution_count": 18,
   "metadata": {
    "ExecuteTime": {
     "end_time": "2019-05-16T04:02:36.881570Z",
     "start_time": "2019-05-16T03:54:49.844378Z"
    }
   },
   "outputs": [
    {
     "data": {
      "text/html": [
       "<div>\n",
       "<style scoped>\n",
       "    .dataframe tbody tr th:only-of-type {\n",
       "        vertical-align: middle;\n",
       "    }\n",
       "\n",
       "    .dataframe tbody tr th {\n",
       "        vertical-align: top;\n",
       "    }\n",
       "\n",
       "    .dataframe thead th {\n",
       "        text-align: right;\n",
       "    }\n",
       "</style>\n",
       "<table border=\"1\" class=\"dataframe\">\n",
       "  <thead>\n",
       "    <tr style=\"text-align: right;\">\n",
       "      <th></th>\n",
       "      <th>user_id</th>\n",
       "      <th>maturity</th>\n",
       "      <th>maturity_norm</th>\n",
       "    </tr>\n",
       "  </thead>\n",
       "  <tbody>\n",
       "    <tr>\n",
       "      <th>0</th>\n",
       "      <td>---1lKK3aKOuomHnwAkAow</td>\n",
       "      <td>0.058459</td>\n",
       "      <td>93.665822</td>\n",
       "    </tr>\n",
       "    <tr>\n",
       "      <th>1</th>\n",
       "      <td>---udAKDsn0yQXmzbWQNSw</td>\n",
       "      <td>0.030560</td>\n",
       "      <td>87.025386</td>\n",
       "    </tr>\n",
       "    <tr>\n",
       "      <th>2</th>\n",
       "      <td>--0sXNBv6IizZXuV-nl0Aw</td>\n",
       "      <td>0.000432</td>\n",
       "      <td>1.249394</td>\n",
       "    </tr>\n",
       "    <tr>\n",
       "      <th>3</th>\n",
       "      <td>--0zxhZTSLZ7w1hUD2bEwA</td>\n",
       "      <td>0.045059</td>\n",
       "      <td>91.360808</td>\n",
       "    </tr>\n",
       "    <tr>\n",
       "      <th>4</th>\n",
       "      <td>--1mPJZdSY9KluaBYAGboQ</td>\n",
       "      <td>0.002090</td>\n",
       "      <td>20.982164</td>\n",
       "    </tr>\n",
       "  </tbody>\n",
       "</table>\n",
       "</div>"
      ],
      "text/plain": [
       "                  user_id  maturity  maturity_norm\n",
       "0  ---1lKK3aKOuomHnwAkAow  0.058459      93.665822\n",
       "1  ---udAKDsn0yQXmzbWQNSw  0.030560      87.025386\n",
       "2  --0sXNBv6IizZXuV-nl0Aw  0.000432       1.249394\n",
       "3  --0zxhZTSLZ7w1hUD2bEwA  0.045059      91.360808\n",
       "4  --1mPJZdSY9KluaBYAGboQ  0.002090      20.982164"
      ]
     },
     "execution_count": 18,
     "metadata": {},
     "output_type": "execute_result"
    }
   ],
   "source": [
    "from scipy import stats\n",
    "for index, row in users_lv.iterrows():\n",
    "    users_lv.at[index,'maturity_norm']=stats.percentileofscore(users_lv.maturity, row.maturity, kind='weak')\n",
    "    \n",
    "users_lv.head()"
   ]
  },
  {
   "cell_type": "code",
   "execution_count": 19,
   "metadata": {
    "ExecuteTime": {
     "end_time": "2019-05-16T04:07:20.579855Z",
     "start_time": "2019-05-16T04:07:20.334569Z"
    }
   },
   "outputs": [
    {
     "data": {
      "text/html": [
       "<div>\n",
       "<style scoped>\n",
       "    .dataframe tbody tr th:only-of-type {\n",
       "        vertical-align: middle;\n",
       "    }\n",
       "\n",
       "    .dataframe tbody tr th {\n",
       "        vertical-align: top;\n",
       "    }\n",
       "\n",
       "    .dataframe thead th {\n",
       "        text-align: right;\n",
       "    }\n",
       "</style>\n",
       "<table border=\"1\" class=\"dataframe\">\n",
       "  <thead>\n",
       "    <tr style=\"text-align: right;\">\n",
       "      <th></th>\n",
       "      <th>maturity</th>\n",
       "      <th>maturity_norm</th>\n",
       "    </tr>\n",
       "  </thead>\n",
       "  <tbody>\n",
       "    <tr>\n",
       "      <th>count</th>\n",
       "      <td>439173.000000</td>\n",
       "      <td>439173.000000</td>\n",
       "    </tr>\n",
       "    <tr>\n",
       "      <th>mean</th>\n",
       "      <td>0.017042</td>\n",
       "      <td>50.002026</td>\n",
       "    </tr>\n",
       "    <tr>\n",
       "      <th>std</th>\n",
       "      <td>0.039910</td>\n",
       "      <td>28.866478</td>\n",
       "    </tr>\n",
       "    <tr>\n",
       "      <th>min</th>\n",
       "      <td>0.000000</td>\n",
       "      <td>0.000683</td>\n",
       "    </tr>\n",
       "    <tr>\n",
       "      <th>25%</th>\n",
       "      <td>0.002461</td>\n",
       "      <td>25.001537</td>\n",
       "    </tr>\n",
       "    <tr>\n",
       "      <th>50%</th>\n",
       "      <td>0.005879</td>\n",
       "      <td>50.000114</td>\n",
       "    </tr>\n",
       "    <tr>\n",
       "      <th>75%</th>\n",
       "      <td>0.015056</td>\n",
       "      <td>75.000057</td>\n",
       "    </tr>\n",
       "    <tr>\n",
       "      <th>max</th>\n",
       "      <td>3.957202</td>\n",
       "      <td>100.000000</td>\n",
       "    </tr>\n",
       "  </tbody>\n",
       "</table>\n",
       "</div>"
      ],
      "text/plain": [
       "            maturity  maturity_norm\n",
       "count  439173.000000  439173.000000\n",
       "mean        0.017042      50.002026\n",
       "std         0.039910      28.866478\n",
       "min         0.000000       0.000683\n",
       "25%         0.002461      25.001537\n",
       "50%         0.005879      50.000114\n",
       "75%         0.015056      75.000057\n",
       "max         3.957202     100.000000"
      ]
     },
     "execution_count": 19,
     "metadata": {},
     "output_type": "execute_result"
    }
   ],
   "source": [
    "users_lv.describe()"
   ]
  },
  {
   "cell_type": "code",
   "execution_count": 20,
   "metadata": {
    "ExecuteTime": {
     "end_time": "2019-05-16T04:08:27.440896Z",
     "start_time": "2019-05-16T04:08:21.285689Z"
    }
   },
   "outputs": [],
   "source": [
    "users_lv.to_csv('Data/LV_User_Maturity.csv', encoding='utf-8-sig',index=False)"
   ]
  },
  {
   "cell_type": "markdown",
   "metadata": {},
   "source": [
    "# NA"
   ]
  },
  {
   "cell_type": "code",
   "execution_count": 15,
   "metadata": {
    "ExecuteTime": {
     "end_time": "2019-05-04T03:23:50.526151Z",
     "start_time": "2019-05-04T03:23:46.270924Z"
    }
   },
   "outputs": [
    {
     "data": {
      "text/plain": [
       "<matplotlib.axes._subplots.AxesSubplot at 0x1e4e5297e10>"
      ]
     },
     "execution_count": 15,
     "metadata": {},
     "output_type": "execute_result"
    },
    {
     "data": {
      "image/png": "[encoded data removed]",
      "text/plain": [
       "<Figure size 1800x720 with 2 Axes>"
      ]
     },
     "metadata": {
      "needs_background": "light"
     },
     "output_type": "display_data"
    }
   ],
   "source": [
    "import missingno as msno\n",
    "%matplotlib inline\n",
    "msno.matrix(chunk)"
   ]
  },
  {
   "cell_type": "code",
   "execution_count": 16,
   "metadata": {
    "ExecuteTime": {
     "end_time": "2019-05-04T03:25:12.632957Z",
     "start_time": "2019-05-04T03:25:10.839562Z"
    }
   },
   "outputs": [
    {
     "data": {
      "text/plain": [
       "<matplotlib.axes._subplots.AxesSubplot at 0x1e4e5371e10>"
      ]
     },
     "execution_count": 16,
     "metadata": {},
     "output_type": "execute_result"
    },
    {
     "data": {
      "image/png": "[encoded data removed]",
      "text/plain": [
       "<Figure size 1728x720 with 3 Axes>"
      ]
     },
     "metadata": {
      "needs_background": "light"
     },
     "output_type": "display_data"
    }
   ],
   "source": [
    "msno.bar(chunk)"
   ]
  },
  {
   "cell_type": "markdown",
   "metadata": {},
   "source": [
    "# Heatmap Plot"
   ]
  },
  {
   "cell_type": "code",
   "execution_count": null,
   "metadata": {},
   "outputs": [],
   "source": [
    "import folium\n",
    "from folium.plugins import HeatMap\n",
    "#Plot Map\n",
    "SF_cood = (37.72, -122.25)\n",
    "m = folium.Map(location=SF_cood, zoom_start=10)\n",
    "df_copy = reviews.copy()\n",
    "HeatMap(data=df_copy[['latitude', 'longitude', 'stars']].values.tolist(), radius=8, ).add_to(m)           \n",
    "m.save('Output/HeatMap.html')\n",
    "#Stamen Terrain\n",
    "#m is Map Object\n",
    "#‘BuGn’, ‘BuPu’, ‘GnBu’, ‘OrRd’, ‘PuBu’, ‘PuBuGn’, ‘PuRd’, ‘RdPu’, ‘YlGn’, ‘YlGnBu’, ‘YlOrBr’, and ‘YlOrRd’"
   ]
  }
 ],
 "metadata": {
  "kernelspec": {
   "display_name": "Python 3",
   "language": "python",
   "name": "python3"
  },
  "language_info": {
   "codemirror_mode": {
    "name": "ipython",
    "version": 3
   },
   "file_extension": ".py",
   "mimetype": "text/x-python",
   "name": "python",
   "nbconvert_exporter": "python",
   "pygments_lexer": "ipython3",
   "version": "3.7.1"
  },
  "toc": {
   "base_numbering": 1,
   "nav_menu": {},
   "number_sections": true,
   "sideBar": true,
   "skip_h1_title": false,
   "title_cell": "Table of Contents",
   "title_sidebar": "Contents",
   "toc_cell": false,
   "toc_position": {},
   "toc_section_display": true,
   "toc_window_display": false
  }
 },
 "nbformat": 4,
 "nbformat_minor": 2
}
